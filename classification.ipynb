{
 "cells": [
  {
   "cell_type": "markdown",
   "metadata": {},
   "source": [
    "# `prachathai-67k` Classification Benchmark"
   ]
  },
  {
   "cell_type": "markdown",
   "metadata": {},
   "source": [
    "We provide two benchmarks for 12-topic multi-label classification of `prachathai-67k`: [fastText](https://github.com/facebookresearch/fastText) and [ULMFit](https://github.com/cstorm125/thai2fit). In both cases, we first finetune the embeddings using all data. The data is then split into train, validation and test sets at 70/10/20 split. The benchmark numbers are based on the test set. Performance metrics are macro-averaged accuracy, F1 score, precision and recall."
   ]
  },
  {
   "cell_type": "code",
   "execution_count": 1,
   "metadata": {},
   "outputs": [],
   "source": [
    "import pandas as pd\n",
    "import numpy as np\n",
    "from pythainlp import word_tokenize\n",
    "from ast import literal_eval\n",
    "from tqdm import tqdm_notebook\n",
    "from collections import Counter\n",
    "import re\n",
    "\n",
    "#viz\n",
    "from plotnine import *\n",
    "import matplotlib.pyplot as plt\n",
    "import seaborn as sns\n",
    "\n",
    "benchmark_labels = ['การเมือง','สิทธิมนุษยชน','คุณภาพชีวิต','ต่างประเทศ','สังคม',\n",
    "                  'สิ่งแวดล้อม','เศรษฐกิจ','วัฒนธรรม','แรงงาน','ความมั่นคง','ไอซีที','การศึกษา']\n",
    "\n",
    "def replace_newline(t):\n",
    "    return re.sub('[\\n]{1,}', ' ', t)\n",
    "\n",
    "ft_data = 'ft_data/'"
   ]
  },
  {
   "cell_type": "code",
   "execution_count": 2,
   "metadata": {},
   "outputs": [
    {
     "name": "stdout",
     "output_type": "stream",
     "text": [
      "(67889, 5)\n"
     ]
    },
    {
     "data": {
      "text/html": [
       "<div>\n",
       "<style scoped>\n",
       "    .dataframe tbody tr th:only-of-type {\n",
       "        vertical-align: middle;\n",
       "    }\n",
       "\n",
       "    .dataframe tbody tr th {\n",
       "        vertical-align: top;\n",
       "    }\n",
       "\n",
       "    .dataframe thead th {\n",
       "        text-align: right;\n",
       "    }\n",
       "</style>\n",
       "<table border=\"1\" class=\"dataframe\">\n",
       "  <thead>\n",
       "    <tr style=\"text-align: right;\">\n",
       "      <th></th>\n",
       "      <th>url</th>\n",
       "      <th>date</th>\n",
       "      <th>title</th>\n",
       "      <th>body_text</th>\n",
       "      <th>labels</th>\n",
       "    </tr>\n",
       "  </thead>\n",
       "  <tbody>\n",
       "    <tr>\n",
       "      <th>0</th>\n",
       "      <td>https://prachatai.com/print/42</td>\n",
       "      <td>2004-08-24 14:31</td>\n",
       "      <td>นักวิจัยหนุน  \"แม้ว\"  เปิด  \"จีเอ็มโอ\"</td>\n",
       "      <td>ประชาไท --- 23 ส.ค.2547  นักวิจัยฯ ชี้นโยบายจี...</td>\n",
       "      <td>['ข่าว', 'สิ่งแวดล้อม']</td>\n",
       "    </tr>\n",
       "    <tr>\n",
       "      <th>1</th>\n",
       "      <td>https://prachatai.com/print/41</td>\n",
       "      <td>2004-08-24 14:22</td>\n",
       "      <td>ภาคประชาชนต้านเปิดเสรีจีเอ็มโอ</td>\n",
       "      <td>ประชาไท- 23 ส.ค.2547   นักวิชาการ ภาคประชาชน จ...</td>\n",
       "      <td>['ข่าว', 'สิ่งแวดล้อม']</td>\n",
       "    </tr>\n",
       "    <tr>\n",
       "      <th>2</th>\n",
       "      <td>https://prachatai.com/print/43</td>\n",
       "      <td>2004-08-24 15:17</td>\n",
       "      <td>จุฬาฯ ห่วงจีเอ็มโอลามข้าวไทย</td>\n",
       "      <td>นโยบายที่อนุญาตให้ปลูกร่วมกับพืชอื่นได้นั้นถื...</td>\n",
       "      <td>['ข่าว', 'สิ่งแวดล้อม']</td>\n",
       "    </tr>\n",
       "    <tr>\n",
       "      <th>3</th>\n",
       "      <td>https://prachatai.com/print/45</td>\n",
       "      <td>2004-08-24 15:58</td>\n",
       "      <td>ฟองสบู่การเมืองแตก ทักษิณหมดกึ๋น ชนชั้นกลางหมด...</td>\n",
       "      <td>ประชาไท -- 23 ส.ค. 47  ขาประจำทักษิณ ฟันธง ฟอง...</td>\n",
       "      <td>['ข่าว', 'การเมือง', 'คณะเศรษฐศาสตร์ มหาวิทยาล...</td>\n",
       "    </tr>\n",
       "    <tr>\n",
       "      <th>4</th>\n",
       "      <td>https://prachatai.com/print/47</td>\n",
       "      <td>2004-08-24 16:10</td>\n",
       "      <td>กอต.เสนอเลิกถนนคลองลาน-อุ้มผาง</td>\n",
       "      <td>ประชาไท-23 ส.ค.47  คณะกรรมการอนุรักษ์ ผืนป่าตะ...</td>\n",
       "      <td>['ข่าว', 'สิ่งแวดล้อม']</td>\n",
       "    </tr>\n",
       "  </tbody>\n",
       "</table>\n",
       "</div>"
      ],
      "text/plain": [
       "                              url              date  \\\n",
       "0  https://prachatai.com/print/42  2004-08-24 14:31   \n",
       "1  https://prachatai.com/print/41  2004-08-24 14:22   \n",
       "2  https://prachatai.com/print/43  2004-08-24 15:17   \n",
       "3  https://prachatai.com/print/45  2004-08-24 15:58   \n",
       "4  https://prachatai.com/print/47  2004-08-24 16:10   \n",
       "\n",
       "                                               title  \\\n",
       "0             นักวิจัยหนุน  \"แม้ว\"  เปิด  \"จีเอ็มโอ\"   \n",
       "1                     ภาคประชาชนต้านเปิดเสรีจีเอ็มโอ   \n",
       "2                       จุฬาฯ ห่วงจีเอ็มโอลามข้าวไทย   \n",
       "3  ฟองสบู่การเมืองแตก ทักษิณหมดกึ๋น ชนชั้นกลางหมด...   \n",
       "4                     กอต.เสนอเลิกถนนคลองลาน-อุ้มผาง   \n",
       "\n",
       "                                           body_text  \\\n",
       "0  ประชาไท --- 23 ส.ค.2547  นักวิจัยฯ ชี้นโยบายจี...   \n",
       "1  ประชาไท- 23 ส.ค.2547   นักวิชาการ ภาคประชาชน จ...   \n",
       "2   นโยบายที่อนุญาตให้ปลูกร่วมกับพืชอื่นได้นั้นถื...   \n",
       "3  ประชาไท -- 23 ส.ค. 47  ขาประจำทักษิณ ฟันธง ฟอง...   \n",
       "4  ประชาไท-23 ส.ค.47  คณะกรรมการอนุรักษ์ ผืนป่าตะ...   \n",
       "\n",
       "                                              labels  \n",
       "0                            ['ข่าว', 'สิ่งแวดล้อม']  \n",
       "1                            ['ข่าว', 'สิ่งแวดล้อม']  \n",
       "2                            ['ข่าว', 'สิ่งแวดล้อม']  \n",
       "3  ['ข่าว', 'การเมือง', 'คณะเศรษฐศาสตร์ มหาวิทยาล...  \n",
       "4                            ['ข่าว', 'สิ่งแวดล้อม']  "
      ]
     },
     "execution_count": 2,
     "metadata": {},
     "output_type": "execute_result"
    }
   ],
   "source": [
    "prachathai = pd.read_csv('prachathai-67k.csv')\n",
    "print(prachathai.shape)\n",
    "prachathai.head()"
   ]
  },
  {
   "cell_type": "markdown",
   "metadata": {},
   "source": [
    "## Train-validation-test Split"
   ]
  },
  {
   "cell_type": "markdown",
   "metadata": {},
   "source": [
    "We perform 70/10/20 train-validation-test split. The train-validation vs test split is done randomly and the train vs validation split is done using `MultilabelStratifiedShuffleSplit` as implemented by [iterative-stratification](https://github.com/trent-b/iterative-stratification). We will use the test set for classification benchmark."
   ]
  },
  {
   "cell_type": "code",
   "execution_count": 3,
   "metadata": {},
   "outputs": [],
   "source": [
    "all_df = prachathai[['body_text', 'labels']].copy()\n",
    "all_df.head()\n",
    "\n",
    "#use only benchmark labels\n",
    "for lab in benchmark_labels:\n",
    "    all_df[lab] = all_df.labels.map(lambda x: 1 if lab in x else 0)\n",
    "all_df.drop('labels',axis=1,inplace=True)"
   ]
  },
  {
   "cell_type": "code",
   "execution_count": 4,
   "metadata": {},
   "outputs": [
    {
     "data": {
      "text/html": [
       "<div>\n",
       "<style scoped>\n",
       "    .dataframe tbody tr th:only-of-type {\n",
       "        vertical-align: middle;\n",
       "    }\n",
       "\n",
       "    .dataframe tbody tr th {\n",
       "        vertical-align: top;\n",
       "    }\n",
       "\n",
       "    .dataframe thead th {\n",
       "        text-align: right;\n",
       "    }\n",
       "</style>\n",
       "<table border=\"1\" class=\"dataframe\">\n",
       "  <thead>\n",
       "    <tr style=\"text-align: right;\">\n",
       "      <th></th>\n",
       "      <th>body_text</th>\n",
       "      <th>การเมือง</th>\n",
       "      <th>สิทธิมนุษยชน</th>\n",
       "      <th>คุณภาพชีวิต</th>\n",
       "      <th>ต่างประเทศ</th>\n",
       "      <th>สังคม</th>\n",
       "      <th>สิ่งแวดล้อม</th>\n",
       "      <th>เศรษฐกิจ</th>\n",
       "      <th>วัฒนธรรม</th>\n",
       "      <th>แรงงาน</th>\n",
       "      <th>ความมั่นคง</th>\n",
       "      <th>ไอซีที</th>\n",
       "      <th>การศึกษา</th>\n",
       "    </tr>\n",
       "  </thead>\n",
       "  <tbody>\n",
       "    <tr>\n",
       "      <th>0</th>\n",
       "      <td>ประชาไท --- 23 ส.ค.2547  นักวิจัยฯ ชี้นโยบายจี...</td>\n",
       "      <td>0</td>\n",
       "      <td>0</td>\n",
       "      <td>0</td>\n",
       "      <td>0</td>\n",
       "      <td>0</td>\n",
       "      <td>1</td>\n",
       "      <td>0</td>\n",
       "      <td>0</td>\n",
       "      <td>0</td>\n",
       "      <td>0</td>\n",
       "      <td>0</td>\n",
       "      <td>0</td>\n",
       "    </tr>\n",
       "    <tr>\n",
       "      <th>1</th>\n",
       "      <td>ประชาไท- 23 ส.ค.2547   นักวิชาการ ภาคประชาชน จ...</td>\n",
       "      <td>0</td>\n",
       "      <td>0</td>\n",
       "      <td>0</td>\n",
       "      <td>0</td>\n",
       "      <td>0</td>\n",
       "      <td>1</td>\n",
       "      <td>0</td>\n",
       "      <td>0</td>\n",
       "      <td>0</td>\n",
       "      <td>0</td>\n",
       "      <td>0</td>\n",
       "      <td>0</td>\n",
       "    </tr>\n",
       "    <tr>\n",
       "      <th>2</th>\n",
       "      <td>นโยบายที่อนุญาตให้ปลูกร่วมกับพืชอื่นได้นั้นถื...</td>\n",
       "      <td>0</td>\n",
       "      <td>0</td>\n",
       "      <td>0</td>\n",
       "      <td>0</td>\n",
       "      <td>0</td>\n",
       "      <td>1</td>\n",
       "      <td>0</td>\n",
       "      <td>0</td>\n",
       "      <td>0</td>\n",
       "      <td>0</td>\n",
       "      <td>0</td>\n",
       "      <td>0</td>\n",
       "    </tr>\n",
       "    <tr>\n",
       "      <th>3</th>\n",
       "      <td>ประชาไท -- 23 ส.ค. 47  ขาประจำทักษิณ ฟันธง ฟอง...</td>\n",
       "      <td>1</td>\n",
       "      <td>0</td>\n",
       "      <td>0</td>\n",
       "      <td>0</td>\n",
       "      <td>0</td>\n",
       "      <td>0</td>\n",
       "      <td>0</td>\n",
       "      <td>0</td>\n",
       "      <td>0</td>\n",
       "      <td>0</td>\n",
       "      <td>0</td>\n",
       "      <td>0</td>\n",
       "    </tr>\n",
       "    <tr>\n",
       "      <th>4</th>\n",
       "      <td>ประชาไท-23 ส.ค.47  คณะกรรมการอนุรักษ์ ผืนป่าตะ...</td>\n",
       "      <td>0</td>\n",
       "      <td>0</td>\n",
       "      <td>0</td>\n",
       "      <td>0</td>\n",
       "      <td>0</td>\n",
       "      <td>1</td>\n",
       "      <td>0</td>\n",
       "      <td>0</td>\n",
       "      <td>0</td>\n",
       "      <td>0</td>\n",
       "      <td>0</td>\n",
       "      <td>0</td>\n",
       "    </tr>\n",
       "  </tbody>\n",
       "</table>\n",
       "</div>"
      ],
      "text/plain": [
       "                                           body_text  การเมือง  สิทธิมนุษยชน  \\\n",
       "0  ประชาไท --- 23 ส.ค.2547  นักวิจัยฯ ชี้นโยบายจี...         0             0   \n",
       "1  ประชาไท- 23 ส.ค.2547   นักวิชาการ ภาคประชาชน จ...         0             0   \n",
       "2   นโยบายที่อนุญาตให้ปลูกร่วมกับพืชอื่นได้นั้นถื...         0             0   \n",
       "3  ประชาไท -- 23 ส.ค. 47  ขาประจำทักษิณ ฟันธง ฟอง...         1             0   \n",
       "4  ประชาไท-23 ส.ค.47  คณะกรรมการอนุรักษ์ ผืนป่าตะ...         0             0   \n",
       "\n",
       "   คุณภาพชีวิต  ต่างประเทศ  สังคม  สิ่งแวดล้อม  เศรษฐกิจ  วัฒนธรรม  แรงงาน  \\\n",
       "0            0           0      0            1         0         0       0   \n",
       "1            0           0      0            1         0         0       0   \n",
       "2            0           0      0            1         0         0       0   \n",
       "3            0           0      0            0         0         0       0   \n",
       "4            0           0      0            1         0         0       0   \n",
       "\n",
       "   ความมั่นคง  ไอซีที  การศึกษา  \n",
       "0           0       0         0  \n",
       "1           0       0         0  \n",
       "2           0       0         0  \n",
       "3           0       0         0  \n",
       "4           0       0         0  "
      ]
     },
     "execution_count": 4,
     "metadata": {},
     "output_type": "execute_result"
    }
   ],
   "source": [
    "all_df.head()"
   ]
  },
  {
   "cell_type": "code",
   "execution_count": 11,
   "metadata": {},
   "outputs": [
    {
     "name": "stdout",
     "output_type": "stream",
     "text": [
      "54311 20367\n",
      "(20367, 13)\n"
     ]
    }
   ],
   "source": [
    "#randomly create test set\n",
    "idx = np.arange(all_df.shape[0])\n",
    "np.random.seed(1412)\n",
    "np.random.shuffle(idx)\n",
    "train_valid_idx, test_idx = idx[:int(all_df.shape[0] * 0.8)], idx[int(all_df.shape[0] * 0.7):]\n",
    "print(len(train_valid_idx),len(test_idx))\n",
    "\n",
    "#save test_df\n",
    "test_df = all_df.iloc[test_idx,:]\n",
    "print(test_df.shape)\n",
    "test_df.to_csv('test_df.csv',index=False)"
   ]
  },
  {
   "cell_type": "code",
   "execution_count": 12,
   "metadata": {},
   "outputs": [
    {
     "name": "stdout",
     "output_type": "stream",
     "text": [
      "47522 6789\n",
      "(47522, 13)\n",
      "(6789, 13)\n"
     ]
    }
   ],
   "source": [
    "#stratified shuffle split for validation set\n",
    "from iterstrat.ml_stratifiers import MultilabelStratifiedShuffleSplit\n",
    "\n",
    "train_valid_df = all_df.iloc[train_valid_idx,:]\n",
    "ohe_df = train_valid_df.iloc[:,1:]\n",
    "msss = MultilabelStratifiedShuffleSplit(n_splits=1, test_size=0.125, random_state=1412)\n",
    "train_idx, valid_idx = next(msss.split(ohe_df,ohe_df))\n",
    "print(len(train_idx),len(valid_idx))\n",
    "\n",
    "#save train and valid_df\n",
    "train_df = all_df.iloc[train_idx,:]\n",
    "print(train_df.shape)\n",
    "train_df.to_csv('train_df.csv',index=False)\n",
    "\n",
    "valid_df = all_df.iloc[valid_idx,:]\n",
    "print(valid_df.shape)\n",
    "valid_df.to_csv('valid_df.csv',index=False)"
   ]
  },
  {
   "cell_type": "code",
   "execution_count": 43,
   "metadata": {},
   "outputs": [
    {
     "data": {
      "text/plain": [
       "การเมือง        0.579614\n",
       "สิทธิมนุษยชน    0.223450\n",
       "คุณภาพชีวิต     0.169343\n",
       "ต่างประเทศ      0.123337\n",
       "สังคม           0.130505\n",
       "สิ่งแวดล้อม     0.117543\n",
       "เศรษฐกิจ        0.075907\n",
       "วัฒนธรรม        0.063289\n",
       "แรงงาน          0.056366\n",
       "ความมั่นคง      0.056317\n",
       "ไอซีที          0.041489\n",
       "การศึกษา        0.037512\n",
       "dtype: float64"
      ]
     },
     "execution_count": 43,
     "metadata": {},
     "output_type": "execute_result"
    }
   ],
   "source": [
    "#test set prevalence\n",
    "test_df.iloc[:,1:].mean(0)"
   ]
  },
  {
   "cell_type": "markdown",
   "metadata": {},
   "source": [
    "## [fastText](https://github.com/facebookresearch/fastText) Model"
   ]
  },
  {
   "cell_type": "markdown",
   "metadata": {},
   "source": [
    "We used embeddings pretrained on [Thai Wikipedia Dump](https://github.com/facebookresearch/fastText/blob/master/docs/pretrained-vectors.md) and finetuned them using all of `prachathai-67k` using skipgram model. After that, we do 12 binary classifications and compute macro-average of performance metrics.\n",
    "\n",
    "| topic         | prevalence | accuracy | f1     | precision | recall |\n",
    "|---------------|------------|----------|--------|-----------|--------|\n",
    "| การเมือง       | 0.5796     | 0.8474   | 0.8731 | 0.8427    | 0.9058 |\n",
    "| สิทธิมนุษยชน     | 0.2235     | 0.8846   | 0.7018 | 0.8299    | 0.6080 |\n",
    "| คุณภาพชีวิต      | 0.1693     | 0.8976   | 0.6412 | 0.7887    | 0.5402 |\n",
    "| ต่างประเทศ     | 0.1233     | 0.9523   | 0.7883 | 0.8713    | 0.7197 |\n",
    "| สังคม          | 0.1305     | 0.8833   | 0.2933 | 0.7003    | 0.1855 |\n",
    "| สิ่งแวดล้อม      | 0.1175     | 0.9469   | 0.7330 | 0.8967    | 0.6199 |\n",
    "| เศรษฐกิจ       | 0.0759     | 0.9394   | 0.4436 | 0.7321    | 0.3182 |\n",
    "| วัฒนธรรม       | 0.0633     | 0.9473   | 0.3569 | 0.7822    | 0.2312 |\n",
    "| แรงงาน        | 0.0564     | 0.9726   | 0.7060 | 0.8933    | 0.5836 |\n",
    "| ความมั่นคง      | 0.0563     | 0.9546   | 0.3990 | 0.7832    | 0.2677 |\n",
    "| ไอซีที          | 0.0415     | 0.9728   | 0.5745 | 0.8184    | 0.4426 |\n",
    "| การศึกษา       | 0.0375     | 0.9631   | 0.1237 | 0.5699    | 0.0694 |\n",
    "| macro_average | 0.1396     | 0.9302   | 0.5529 | 0.7924    | 0.4576 |"
   ]
  },
  {
   "cell_type": "code",
   "execution_count": 2,
   "metadata": {},
   "outputs": [],
   "source": [
    "train_df = pd.read_csv('train_df.csv')\n",
    "valid_df = pd.read_csv('valid_df.csv')\n",
    "test_df = pd.read_csv('test_df.csv')"
   ]
  },
  {
   "cell_type": "code",
   "execution_count": 6,
   "metadata": {},
   "outputs": [],
   "source": [
    "df_txts = ['train','valid','test']\n",
    "dfs = [train_df,valid_df,test_df]\n",
    "\n",
    "for i in range(3):\n",
    "    df = dfs[i]\n",
    "    for lab in tqdm_notebook(benchmark_labels):\n",
    "        ft_lines = []\n",
    "        for _,row in df.iterrows():\n",
    "            ft_lab = f'__label__{row[lab]}'\n",
    "            ft_text = replace_newline(f'{row[\"body_text\"]}')\n",
    "            ft_line = f'{ft_lab} {ft_text}'\n",
    "            ft_lines.append(ft_line)\n",
    "\n",
    "        doc = '\\n'.join(ft_lines)\n",
    "        with open(f'{ft_data}{df_txts[i]}_{lab}.txt','w') as f:\n",
    "            f.write(doc)\n",
    "        f.close()"
   ]
  },
  {
   "cell_type": "code",
   "execution_count": 16,
   "metadata": {},
   "outputs": [],
   "source": [
    "#for fasttext embedding finetuning\n",
    "ft_lines = []\n",
    "for _,row in all_df.iterrows():\n",
    "    ft_lab = '__label__0'\n",
    "    ft_text = replace_newline(f'{row[\"body_text\"]}')\n",
    "    ft_line = f'{ft_lab} {ft_text}'\n",
    "    ft_lines.append(ft_line)\n",
    "\n",
    "doc = '\\n'.join(ft_lines)\n",
    "with open(f'{ft_data}df_all.txt','w') as f:\n",
    "    f.write(doc)\n",
    "f.close()"
   ]
  },
  {
   "cell_type": "code",
   "execution_count": 18,
   "metadata": {},
   "outputs": [
    {
     "name": "stdout",
     "output_type": "stream",
     "text": [
      "Read 16M words\n",
      "Number of words:  161169\n",
      "Number of labels: 1\n",
      "Progress: 100.0% words/sec/thread:    8476 lr:  0.000000 loss:  1.250565 ETA:   0h 0m\n"
     ]
    }
   ],
   "source": [
    "#finetune with all data\n",
    "!/home/ubuntu/fastText/fasttext skipgram \\\n",
    "-pretrainedVectors 'model/wiki.th.vec' -dim 300 \\\n",
    "-input ft_data/df_all.txt -output 'model/finetuned'"
   ]
  },
  {
   "cell_type": "code",
   "execution_count": 38,
   "metadata": {},
   "outputs": [
    {
     "name": "stdout",
     "output_type": "stream",
     "text": [
      "Read 11M words\n",
      "Number of words:  5773818\n",
      "Number of labels: 2\n",
      "Progress: 100.0% words/sec/thread:  276088 lr:  0.000000 loss:  0.027403 ETA:   0h 0m\n",
      "^C\n"
     ]
    }
   ],
   "source": [
    "#train classifier\n",
    "!/home/ubuntu/fastText/fasttext supervised \\\n",
    "-input 'ft_data/train_การศึกษา.txt' -output 'model/การศึกษา' \\\n",
    "-pretrainedVectors 'model/finetuned.vec' -epoch 5 -dim 300 -wordNgrams 2 "
   ]
  },
  {
   "cell_type": "code",
   "execution_count": 41,
   "metadata": {},
   "outputs": [],
   "source": [
    "#get prediction\n",
    "preds = !/home/ubuntu/fastText/fasttext predict 'model/การศึกษา.bin' 'ft_data/test_การศึกษา.txt'"
   ]
  },
  {
   "cell_type": "code",
   "execution_count": 42,
   "metadata": {},
   "outputs": [
    {
     "data": {
      "text/plain": [
       "(0.9631266264054598,\n",
       " 0.12368728121353562,\n",
       " 0.5698924731182796,\n",
       " 0.0693717277486911)"
      ]
     },
     "execution_count": 42,
     "metadata": {},
     "output_type": "execute_result"
    }
   ],
   "source": [
    "#calculate score\n",
    "lab = 'การศึกษา'\n",
    "pred_num = [int(i[-1]) for i in preds]\n",
    "\n",
    "from sklearn.metrics import f1_score, precision_score, recall_score\n",
    "(pred_num == test_df[lab]).mean(), \\\n",
    "f1_score(test_df[lab],pred_num), \\\n",
    "precision_score(test_df[lab],pred_num), \\\n",
    "recall_score(test_df[lab],pred_num)"
   ]
  },
  {
   "cell_type": "markdown",
   "metadata": {},
   "source": [
    "## LinearSVC Model"
   ]
  },
  {
   "cell_type": "markdown",
   "metadata": {},
   "source": [
    "| target        | prevalence | accuracy    | f1          | precision | recall      |\n",
    "|---------------|------------|-------------|-------------|-----------|-------------|\n",
    "| การเมือง       | 0.5796     | 0.908724898 | 0.891165623 | 0.8889278 | 0.89341472  |\n",
    "| สิทธิมนุษยชน     | 0.2235     | 0.908724898 | 0.921405319 | 0.9230834 | 0.919733288 |\n",
    "| คุณภาพชีวิต      | 0.1693     | 0.930328473 | 0.956250963 | 0.980526  | 0.933148806 |\n",
    "| ต่างประเทศ     | 0.1233     | 0.930328473 | 0.829015544 | 0.7558778 | 0.917822839 |\n",
    "| สังคม          | 0.1305     | 0.939951883 | 0.96467666  | 0.9871143 | 0.943236374 |\n",
    "| สิ่งแวดล้อม      | 0.1175     | 0.939951883 | 0.799869089 | 0.7086112 | 0.918106687 |\n",
    "| เศรษฐกิจ       | 0.0759     | 0.974075711 | 0.985325996 | 0.9928311 | 0.977933469 |\n",
    "| วัฒนธรรม       | 0.0633     | 0.974075711 | 0.888888889 | 0.8407643 | 0.942857143 |\n",
    "| แรงงาน        | 0.0564     | 0.935680267 | 0.964107622 | 0.9935061 | 0.936398957 |\n",
    "| ความมั่นคง      | 0.0563     | 0.935680267 | 0.690745987 | 0.5504138 | 0.92712294  |\n",
    "| ไอซีที          | 0.0415     | 0.975695979 | 0.986345204 | 0.9947143 | 0.978115768 |\n",
    "| การศึกษา       | 0.0375     | 0.975695979 | 0.889582869 | 0.8329156 | 0.954523696 |\n",
    "| macro_average | 0.1396     | 0.9441      | 0.8973      | 0.8708    | 0.9369      |"
   ]
  },
  {
   "cell_type": "code",
   "execution_count": 27,
   "metadata": {},
   "outputs": [
    {
     "data": {
      "application/vnd.jupyter.widget-view+json": {
       "model_id": "ed0525102b964baea92d68d4005d1f4e",
       "version_major": 2,
       "version_minor": 0
      },
      "text/plain": [
       "HBox(children=(IntProgress(value=0, max=47522), HTML(value='')))"
      ]
     },
     "metadata": {},
     "output_type": "display_data"
    },
    {
     "data": {
      "application/vnd.jupyter.widget-view+json": {
       "model_id": "bc7dab36f6fb4495bd054253e0108fa6",
       "version_major": 2,
       "version_minor": 0
      },
      "text/plain": [
       "HBox(children=(IntProgress(value=0, max=20367), HTML(value='')))"
      ]
     },
     "metadata": {},
     "output_type": "display_data"
    }
   ],
   "source": [
    "# train_splits = []\n",
    "# test_splits = []\n",
    "# for i in tqdm_notebook(range(train_df.shape[0])):\n",
    "#     x = ' '.join(process_text(train_df.body_text[i]))\n",
    "#     train_splits.append(x)\n",
    "\n",
    "# for i in tqdm_notebook(range(test_df.shape[0])):\n",
    "#     x = ' '.join(process_text(test_df.body_text[i]))\n",
    "#     test_splits.append(x)\n",
    "\n",
    "# import pickle\n",
    "# pickle.dump(train_splits,open('train_splits.pkl','wb'))\n",
    "# pickle.dump(test_splits,open('test_splits.pkl','wb'))"
   ]
  },
  {
   "cell_type": "code",
   "execution_count": 52,
   "metadata": {},
   "outputs": [],
   "source": [
    "# train_splits = pickle.load(open('train_splits.pkl','rb'))\n",
    "# test_splits = pickle.load(open('test_splits.pkl','rb'))\n",
    "X_train, y_train = pd.Series(train_splits), train_df.iloc[:,1:]\n",
    "X_test, y_test = pd.Series(test_splits), test_df.iloc[:,1:]"
   ]
  },
  {
   "cell_type": "code",
   "execution_count": 70,
   "metadata": {},
   "outputs": [
    {
     "data": {
      "text/plain": [
       "Pipeline(memory=None,\n",
       "     steps=[('vect', CountVectorizer(analyzer='word', binary=False, decode_error='strict',\n",
       "        dtype=<class 'numpy.int64'>, encoding='utf-8', input='content',\n",
       "        lowercase=True, max_df=1.0, max_features=None, min_df=1,\n",
       "        ngram_range=(1, 2), preprocessor=None, stop_words=None,\n",
       "        strip..._class='ovr', penalty='l2', random_state=None, tol=0.0001,\n",
       "     verbose=0),\n",
       "          n_jobs=None))])"
      ]
     },
     "execution_count": 70,
     "metadata": {},
     "output_type": "execute_result"
    }
   ],
   "source": [
    "from sklearn.pipeline import Pipeline\n",
    "from sklearn.feature_extraction.text import CountVectorizer, TfidfTransformer\n",
    "from sklearn.multiclass import OneVsRestClassifier\n",
    "from sklearn.svm import LinearSVC\n",
    "\n",
    "def process_text(text):\n",
    "    return text.split()\n",
    "\n",
    "text_clf = Pipeline([\n",
    "    ('vect', CountVectorizer(tokenizer=process_text, ngram_range=(1,2))),\n",
    "    ('tfidf', TfidfTransformer()),\n",
    "    ('clf', OneVsRestClassifier(LinearSVC())),\n",
    "])\n",
    "\n",
    "text_clf.fit(X_train, y_train)"
   ]
  },
  {
   "cell_type": "code",
   "execution_count": 73,
   "metadata": {},
   "outputs": [],
   "source": [
    "from sklearn.preprocessing import OneHotEncoder\n",
    "enc = OneHotEncoder(handle_unknown='ignore')\n",
    "pred_lab = text_clf.predict(X_test)"
   ]
  },
  {
   "cell_type": "code",
   "execution_count": 77,
   "metadata": {},
   "outputs": [],
   "source": [
    "pred_ohe = enc.fit_transform(pred_lab).toarray()\n",
    "y_ohe = enc.fit_transform(test_df.iloc[:,1:]).toarray()"
   ]
  },
  {
   "cell_type": "code",
   "execution_count": 80,
   "metadata": {},
   "outputs": [
    {
     "name": "stdout",
     "output_type": "stream",
     "text": [
      "0.9087248981195071 0.8911656226216264 0.888927820602663 0.8934147200375631\n",
      "0.9087248981195071 0.9214053185642412 0.9230834392206692 0.9197332883187036\n",
      "0.9303284725290911 0.9562509634653923 0.9805260495700556 0.9331488055839702\n",
      "0.9303284725290911 0.8290155440414507 0.7558778290485607 0.9178228388473852\n",
      "0.9399518829479059 0.9646766600236836 0.9871143161130157 0.9432363739056764\n",
      "0.9399518829479059 0.7998690885288824 0.7086111916497535 0.918106686701728\n",
      "0.9740757107084991 0.9853259963314991 0.9928311397367684 0.9779334694102719\n",
      "0.9740757107084991 0.8888888888888888 0.8407643312101911 0.9428571428571428\n",
      "0.9356802670987382 0.9641076223354704 0.9935061268281664 0.9363989568364468\n",
      "0.9356802670987382 0.6907459867799811 0.5504138449962378 0.9271229404309252\n",
      "0.9756959787892179 0.986345204270227 0.9947142936627162 0.9781157675894518\n",
      "0.9756959787892179 0.8895828686147669 0.8329156223893066 0.9545236955481091\n"
     ]
    }
   ],
   "source": [
    "from sklearn.metrics import f1_score, precision_score, recall_score\n",
    "#macro metrics\n",
    "for i in range(12):\n",
    "    print(\n",
    "        (pred_ohe[:,i]==y_ohe[:,i]).mean(),\n",
    "        f1_score(pred_ohe[:,i],y_ohe[:,i]),\n",
    "        precision_score(pred_ohe[:,i],y_ohe[:,i]),\n",
    "        recall_score(pred_ohe[:,i],y_ohe[:,i])\n",
    "         )"
   ]
  },
  {
   "cell_type": "markdown",
   "metadata": {},
   "source": [
    "## [ULMFit](https://github.com/cstorm125/thai2fit) Model"
   ]
  },
  {
   "cell_type": "code",
   "execution_count": null,
   "metadata": {},
   "outputs": [],
   "source": []
  }
 ],
 "metadata": {
  "kernelspec": {
   "display_name": "Python 3",
   "language": "python",
   "name": "python3"
  },
  "language_info": {
   "codemirror_mode": {
    "name": "ipython",
    "version": 3
   },
   "file_extension": ".py",
   "mimetype": "text/x-python",
   "name": "python",
   "nbconvert_exporter": "python",
   "pygments_lexer": "ipython3",
   "version": "3.6.8"
  }
 },
 "nbformat": 4,
 "nbformat_minor": 2
}
