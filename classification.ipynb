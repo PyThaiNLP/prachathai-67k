{
 "cells": [
  {
   "cell_type": "markdown",
   "metadata": {},
   "source": [
    "# `prachathai-67k` Classification Benchmark"
   ]
  },
  {
   "cell_type": "markdown",
   "metadata": {},
   "source": [
    "We provide 3 benchmarks for 12-topic multi-label classification of `prachathai-67k`: [fastText](https://github.com/facebookresearch/fastText), LinearSVC and [ULMFit](https://github.com/cstorm125/thai2fit). In all cases, we first finetune the embeddings using all data. The data is then split into train, validation and test sets at 70/10/20 split. The benchmark numbers are based on the test set. Performance metrics are macro-averaged accuracy and F1 score.\n",
    "\n",
    "| model     | macro-accuracy | macro-F1 |\n",
    "|-----------|----------------|----------|\n",
    "| fastText  | 0.9302         | 0.5529   |\n",
    "| LinearSVC | 0.513277       | 0.552801 |\n",
    "| **ULMFit**    | **0.948737**       | **0.744875**\t |"
   ]
  },
  {
   "cell_type": "code",
   "execution_count": 1,
   "metadata": {},
   "outputs": [],
   "source": [
    "import pandas as pd\n",
    "import numpy as np\n",
    "from pythainlp import word_tokenize\n",
    "from ast import literal_eval\n",
    "from tqdm import tqdm_notebook\n",
    "from collections import Counter\n",
    "import re\n",
    "\n",
    "#viz\n",
    "from plotnine import *\n",
    "import matplotlib.pyplot as plt\n",
    "import seaborn as sns\n",
    "\n",
    "benchmark_labels = ['การเมือง','สิทธิมนุษยชน','คุณภาพชีวิต','ต่างประเทศ','สังคม',\n",
    "                  'สิ่งแวดล้อม','เศรษฐกิจ','วัฒนธรรม','แรงงาน','ความมั่นคง','ไอซีที','การศึกษา']\n",
    "\n",
    "def replace_newline(t):\n",
    "    return re.sub('[\\n]{1,}', ' ', t)\n",
    "\n",
    "ft_data = 'ft_data/'"
   ]
  },
  {
   "cell_type": "code",
   "execution_count": 9,
   "metadata": {},
   "outputs": [
    {
     "name": "stdout",
     "output_type": "stream",
     "text": [
      "(67889, 5)\n"
     ]
    },
    {
     "data": {
      "text/html": [
       "<div>\n",
       "<style scoped>\n",
       "    .dataframe tbody tr th:only-of-type {\n",
       "        vertical-align: middle;\n",
       "    }\n",
       "\n",
       "    .dataframe tbody tr th {\n",
       "        vertical-align: top;\n",
       "    }\n",
       "\n",
       "    .dataframe thead th {\n",
       "        text-align: right;\n",
       "    }\n",
       "</style>\n",
       "<table border=\"1\" class=\"dataframe\">\n",
       "  <thead>\n",
       "    <tr style=\"text-align: right;\">\n",
       "      <th></th>\n",
       "      <th>url</th>\n",
       "      <th>date</th>\n",
       "      <th>title</th>\n",
       "      <th>body_text</th>\n",
       "      <th>labels</th>\n",
       "    </tr>\n",
       "  </thead>\n",
       "  <tbody>\n",
       "    <tr>\n",
       "      <th>0</th>\n",
       "      <td>https://prachatai.com/print/42</td>\n",
       "      <td>2004-08-24 14:31</td>\n",
       "      <td>นักวิจัยหนุน  \"แม้ว\"  เปิด  \"จีเอ็มโอ\"</td>\n",
       "      <td>ประชาไท --- 23 ส.ค.2547  นักวิจัยฯ ชี้นโยบายจี...</td>\n",
       "      <td>['ข่าว', 'สิ่งแวดล้อม']</td>\n",
       "    </tr>\n",
       "    <tr>\n",
       "      <th>1</th>\n",
       "      <td>https://prachatai.com/print/41</td>\n",
       "      <td>2004-08-24 14:22</td>\n",
       "      <td>ภาคประชาชนต้านเปิดเสรีจีเอ็มโอ</td>\n",
       "      <td>ประชาไท- 23 ส.ค.2547   นักวิชาการ ภาคประชาชน จ...</td>\n",
       "      <td>['ข่าว', 'สิ่งแวดล้อม']</td>\n",
       "    </tr>\n",
       "    <tr>\n",
       "      <th>2</th>\n",
       "      <td>https://prachatai.com/print/43</td>\n",
       "      <td>2004-08-24 15:17</td>\n",
       "      <td>จุฬาฯ ห่วงจีเอ็มโอลามข้าวไทย</td>\n",
       "      <td>นโยบายที่อนุญาตให้ปลูกร่วมกับพืชอื่นได้นั้นถื...</td>\n",
       "      <td>['ข่าว', 'สิ่งแวดล้อม']</td>\n",
       "    </tr>\n",
       "    <tr>\n",
       "      <th>3</th>\n",
       "      <td>https://prachatai.com/print/45</td>\n",
       "      <td>2004-08-24 15:58</td>\n",
       "      <td>ฟองสบู่การเมืองแตก ทักษิณหมดกึ๋น ชนชั้นกลางหมด...</td>\n",
       "      <td>ประชาไท -- 23 ส.ค. 47  ขาประจำทักษิณ ฟันธง ฟอง...</td>\n",
       "      <td>['ข่าว', 'การเมือง', 'คณะเศรษฐศาสตร์ มหาวิทยาล...</td>\n",
       "    </tr>\n",
       "    <tr>\n",
       "      <th>4</th>\n",
       "      <td>https://prachatai.com/print/47</td>\n",
       "      <td>2004-08-24 16:10</td>\n",
       "      <td>กอต.เสนอเลิกถนนคลองลาน-อุ้มผาง</td>\n",
       "      <td>ประชาไท-23 ส.ค.47  คณะกรรมการอนุรักษ์ ผืนป่าตะ...</td>\n",
       "      <td>['ข่าว', 'สิ่งแวดล้อม']</td>\n",
       "    </tr>\n",
       "  </tbody>\n",
       "</table>\n",
       "</div>"
      ],
      "text/plain": [
       "                              url              date  \\\n",
       "0  https://prachatai.com/print/42  2004-08-24 14:31   \n",
       "1  https://prachatai.com/print/41  2004-08-24 14:22   \n",
       "2  https://prachatai.com/print/43  2004-08-24 15:17   \n",
       "3  https://prachatai.com/print/45  2004-08-24 15:58   \n",
       "4  https://prachatai.com/print/47  2004-08-24 16:10   \n",
       "\n",
       "                                               title  \\\n",
       "0             นักวิจัยหนุน  \"แม้ว\"  เปิด  \"จีเอ็มโอ\"   \n",
       "1                     ภาคประชาชนต้านเปิดเสรีจีเอ็มโอ   \n",
       "2                       จุฬาฯ ห่วงจีเอ็มโอลามข้าวไทย   \n",
       "3  ฟองสบู่การเมืองแตก ทักษิณหมดกึ๋น ชนชั้นกลางหมด...   \n",
       "4                     กอต.เสนอเลิกถนนคลองลาน-อุ้มผาง   \n",
       "\n",
       "                                           body_text  \\\n",
       "0  ประชาไท --- 23 ส.ค.2547  นักวิจัยฯ ชี้นโยบายจี...   \n",
       "1  ประชาไท- 23 ส.ค.2547   นักวิชาการ ภาคประชาชน จ...   \n",
       "2   นโยบายที่อนุญาตให้ปลูกร่วมกับพืชอื่นได้นั้นถื...   \n",
       "3  ประชาไท -- 23 ส.ค. 47  ขาประจำทักษิณ ฟันธง ฟอง...   \n",
       "4  ประชาไท-23 ส.ค.47  คณะกรรมการอนุรักษ์ ผืนป่าตะ...   \n",
       "\n",
       "                                              labels  \n",
       "0                            ['ข่าว', 'สิ่งแวดล้อม']  \n",
       "1                            ['ข่าว', 'สิ่งแวดล้อม']  \n",
       "2                            ['ข่าว', 'สิ่งแวดล้อม']  \n",
       "3  ['ข่าว', 'การเมือง', 'คณะเศรษฐศาสตร์ มหาวิทยาล...  \n",
       "4                            ['ข่าว', 'สิ่งแวดล้อม']  "
      ]
     },
     "execution_count": 9,
     "metadata": {},
     "output_type": "execute_result"
    }
   ],
   "source": [
    "prachathai = pd.read_csv('prachathai-67k.csv')\n",
    "print(prachathai.shape)\n",
    "prachathai.head()"
   ]
  },
  {
   "cell_type": "markdown",
   "metadata": {},
   "source": [
    "## Train-validation-test Split"
   ]
  },
  {
   "cell_type": "markdown",
   "metadata": {},
   "source": [
    "We perform 70/10/20 train-validation-test split. The train-validation vs test split is done randomly and the train vs validation split is done using `MultilabelStratifiedShuffleSplit` as implemented by [iterative-stratification](https://github.com/trent-b/iterative-stratification). We will use the test set for classification benchmark."
   ]
  },
  {
   "cell_type": "code",
   "execution_count": 10,
   "metadata": {},
   "outputs": [],
   "source": [
    "all_df = prachathai[['body_text', 'labels']].copy()\n",
    "all_df.head()\n",
    "\n",
    "#use only benchmark labels\n",
    "for lab in benchmark_labels:\n",
    "    all_df[lab] = all_df.labels.map(lambda x: 1 if lab in x else 0)\n",
    "all_df.drop('labels',axis=1,inplace=True)"
   ]
  },
  {
   "cell_type": "code",
   "execution_count": 11,
   "metadata": {},
   "outputs": [
    {
     "data": {
      "text/html": [
       "<div>\n",
       "<style scoped>\n",
       "    .dataframe tbody tr th:only-of-type {\n",
       "        vertical-align: middle;\n",
       "    }\n",
       "\n",
       "    .dataframe tbody tr th {\n",
       "        vertical-align: top;\n",
       "    }\n",
       "\n",
       "    .dataframe thead th {\n",
       "        text-align: right;\n",
       "    }\n",
       "</style>\n",
       "<table border=\"1\" class=\"dataframe\">\n",
       "  <thead>\n",
       "    <tr style=\"text-align: right;\">\n",
       "      <th></th>\n",
       "      <th>body_text</th>\n",
       "      <th>การเมือง</th>\n",
       "      <th>สิทธิมนุษยชน</th>\n",
       "      <th>คุณภาพชีวิต</th>\n",
       "      <th>ต่างประเทศ</th>\n",
       "      <th>สังคม</th>\n",
       "      <th>สิ่งแวดล้อม</th>\n",
       "      <th>เศรษฐกิจ</th>\n",
       "      <th>วัฒนธรรม</th>\n",
       "      <th>แรงงาน</th>\n",
       "      <th>ความมั่นคง</th>\n",
       "      <th>ไอซีที</th>\n",
       "      <th>การศึกษา</th>\n",
       "    </tr>\n",
       "  </thead>\n",
       "  <tbody>\n",
       "    <tr>\n",
       "      <th>0</th>\n",
       "      <td>ประชาไท --- 23 ส.ค.2547  นักวิจัยฯ ชี้นโยบายจี...</td>\n",
       "      <td>0</td>\n",
       "      <td>0</td>\n",
       "      <td>0</td>\n",
       "      <td>0</td>\n",
       "      <td>0</td>\n",
       "      <td>1</td>\n",
       "      <td>0</td>\n",
       "      <td>0</td>\n",
       "      <td>0</td>\n",
       "      <td>0</td>\n",
       "      <td>0</td>\n",
       "      <td>0</td>\n",
       "    </tr>\n",
       "    <tr>\n",
       "      <th>1</th>\n",
       "      <td>ประชาไท- 23 ส.ค.2547   นักวิชาการ ภาคประชาชน จ...</td>\n",
       "      <td>0</td>\n",
       "      <td>0</td>\n",
       "      <td>0</td>\n",
       "      <td>0</td>\n",
       "      <td>0</td>\n",
       "      <td>1</td>\n",
       "      <td>0</td>\n",
       "      <td>0</td>\n",
       "      <td>0</td>\n",
       "      <td>0</td>\n",
       "      <td>0</td>\n",
       "      <td>0</td>\n",
       "    </tr>\n",
       "    <tr>\n",
       "      <th>2</th>\n",
       "      <td>นโยบายที่อนุญาตให้ปลูกร่วมกับพืชอื่นได้นั้นถื...</td>\n",
       "      <td>0</td>\n",
       "      <td>0</td>\n",
       "      <td>0</td>\n",
       "      <td>0</td>\n",
       "      <td>0</td>\n",
       "      <td>1</td>\n",
       "      <td>0</td>\n",
       "      <td>0</td>\n",
       "      <td>0</td>\n",
       "      <td>0</td>\n",
       "      <td>0</td>\n",
       "      <td>0</td>\n",
       "    </tr>\n",
       "    <tr>\n",
       "      <th>3</th>\n",
       "      <td>ประชาไท -- 23 ส.ค. 47  ขาประจำทักษิณ ฟันธง ฟอง...</td>\n",
       "      <td>1</td>\n",
       "      <td>0</td>\n",
       "      <td>0</td>\n",
       "      <td>0</td>\n",
       "      <td>0</td>\n",
       "      <td>0</td>\n",
       "      <td>0</td>\n",
       "      <td>0</td>\n",
       "      <td>0</td>\n",
       "      <td>0</td>\n",
       "      <td>0</td>\n",
       "      <td>0</td>\n",
       "    </tr>\n",
       "    <tr>\n",
       "      <th>4</th>\n",
       "      <td>ประชาไท-23 ส.ค.47  คณะกรรมการอนุรักษ์ ผืนป่าตะ...</td>\n",
       "      <td>0</td>\n",
       "      <td>0</td>\n",
       "      <td>0</td>\n",
       "      <td>0</td>\n",
       "      <td>0</td>\n",
       "      <td>1</td>\n",
       "      <td>0</td>\n",
       "      <td>0</td>\n",
       "      <td>0</td>\n",
       "      <td>0</td>\n",
       "      <td>0</td>\n",
       "      <td>0</td>\n",
       "    </tr>\n",
       "  </tbody>\n",
       "</table>\n",
       "</div>"
      ],
      "text/plain": [
       "                                           body_text  การเมือง  สิทธิมนุษยชน  \\\n",
       "0  ประชาไท --- 23 ส.ค.2547  นักวิจัยฯ ชี้นโยบายจี...         0             0   \n",
       "1  ประชาไท- 23 ส.ค.2547   นักวิชาการ ภาคประชาชน จ...         0             0   \n",
       "2   นโยบายที่อนุญาตให้ปลูกร่วมกับพืชอื่นได้นั้นถื...         0             0   \n",
       "3  ประชาไท -- 23 ส.ค. 47  ขาประจำทักษิณ ฟันธง ฟอง...         1             0   \n",
       "4  ประชาไท-23 ส.ค.47  คณะกรรมการอนุรักษ์ ผืนป่าตะ...         0             0   \n",
       "\n",
       "   คุณภาพชีวิต  ต่างประเทศ  สังคม  สิ่งแวดล้อม  เศรษฐกิจ  วัฒนธรรม  แรงงาน  \\\n",
       "0            0           0      0            1         0         0       0   \n",
       "1            0           0      0            1         0         0       0   \n",
       "2            0           0      0            1         0         0       0   \n",
       "3            0           0      0            0         0         0       0   \n",
       "4            0           0      0            1         0         0       0   \n",
       "\n",
       "   ความมั่นคง  ไอซีที  การศึกษา  \n",
       "0           0       0         0  \n",
       "1           0       0         0  \n",
       "2           0       0         0  \n",
       "3           0       0         0  \n",
       "4           0       0         0  "
      ]
     },
     "execution_count": 11,
     "metadata": {},
     "output_type": "execute_result"
    }
   ],
   "source": [
    "all_df.head()"
   ]
  },
  {
   "cell_type": "code",
   "execution_count": 12,
   "metadata": {},
   "outputs": [
    {
     "name": "stdout",
     "output_type": "stream",
     "text": [
      "54311 20367\n",
      "(20367, 13)\n"
     ]
    }
   ],
   "source": [
    "#randomly create test set\n",
    "idx = np.arange(all_df.shape[0])\n",
    "np.random.seed(1412)\n",
    "np.random.shuffle(idx)\n",
    "train_valid_idx, test_idx = idx[:int(all_df.shape[0] * 0.8)], idx[int(all_df.shape[0] * 0.7):]\n",
    "print(len(train_valid_idx),len(test_idx))\n",
    "\n",
    "#save test_df\n",
    "test_df = all_df.iloc[test_idx,:]\n",
    "print(test_df.shape)\n",
    "test_df.to_csv('test_df.csv',index=False)"
   ]
  },
  {
   "cell_type": "code",
   "execution_count": 13,
   "metadata": {},
   "outputs": [
    {
     "name": "stdout",
     "output_type": "stream",
     "text": [
      "47522 6789\n",
      "(47522, 13)\n",
      "(6789, 13)\n"
     ]
    }
   ],
   "source": [
    "#stratified shuffle split for validation set\n",
    "from iterstrat.ml_stratifiers import MultilabelStratifiedShuffleSplit\n",
    "\n",
    "train_valid_df = all_df.iloc[train_valid_idx,:]\n",
    "ohe_df = train_valid_df.iloc[:,1:]\n",
    "msss = MultilabelStratifiedShuffleSplit(n_splits=1, test_size=0.125, random_state=1412)\n",
    "train_idx, valid_idx = next(msss.split(ohe_df,ohe_df))\n",
    "print(len(train_idx),len(valid_idx))\n",
    "\n",
    "#save train and valid_df\n",
    "train_df = all_df.iloc[train_idx,:]\n",
    "print(train_df.shape)\n",
    "train_df.to_csv('train_df.csv',index=False)\n",
    "\n",
    "valid_df = all_df.iloc[valid_idx,:]\n",
    "print(valid_df.shape)\n",
    "valid_df.to_csv('valid_df.csv',index=False)"
   ]
  },
  {
   "cell_type": "code",
   "execution_count": 14,
   "metadata": {},
   "outputs": [
    {
     "data": {
      "text/plain": [
       "การเมือง        0.579614\n",
       "สิทธิมนุษยชน    0.223450\n",
       "คุณภาพชีวิต     0.169343\n",
       "ต่างประเทศ      0.123337\n",
       "สังคม           0.130505\n",
       "สิ่งแวดล้อม     0.117543\n",
       "เศรษฐกิจ        0.075907\n",
       "วัฒนธรรม        0.063289\n",
       "แรงงาน          0.056366\n",
       "ความมั่นคง      0.056317\n",
       "ไอซีที          0.041489\n",
       "การศึกษา        0.037512\n",
       "dtype: float64"
      ]
     },
     "execution_count": 14,
     "metadata": {},
     "output_type": "execute_result"
    }
   ],
   "source": [
    "#test set prevalence\n",
    "test_df.iloc[:,1:].mean(0)"
   ]
  },
  {
   "cell_type": "markdown",
   "metadata": {},
   "source": [
    "## [fastText](https://github.com/facebookresearch/fastText) Model"
   ]
  },
  {
   "cell_type": "markdown",
   "metadata": {},
   "source": [
    "We used embeddings pretrained on [Thai Wikipedia Dump](https://github.com/facebookresearch/fastText/blob/master/docs/pretrained-vectors.md) and finetuned them using all of `prachathai-67k` using skipgram model. After that, we do 12 binary classifications and compute macro-average of performance metrics.\n",
    "\n",
    "| topic         | prevalence | accuracy | f1     | precision | recall |\n",
    "|---------------|------------|----------|--------|-----------|--------|\n",
    "| การเมือง       | 0.5796     | 0.8474   | 0.8731 | 0.8427    | 0.9058 |\n",
    "| สิทธิมนุษยชน     | 0.2235     | 0.8846   | 0.7018 | 0.8299    | 0.6080 |\n",
    "| คุณภาพชีวิต      | 0.1693     | 0.8976   | 0.6412 | 0.7887    | 0.5402 |\n",
    "| ต่างประเทศ     | 0.1233     | 0.9523   | 0.7883 | 0.8713    | 0.7197 |\n",
    "| สังคม          | 0.1305     | 0.8833   | 0.2933 | 0.7003    | 0.1855 |\n",
    "| สิ่งแวดล้อม      | 0.1175     | 0.9469   | 0.7330 | 0.8967    | 0.6199 |\n",
    "| เศรษฐกิจ       | 0.0759     | 0.9394   | 0.4436 | 0.7321    | 0.3182 |\n",
    "| วัฒนธรรม       | 0.0633     | 0.9473   | 0.3569 | 0.7822    | 0.2312 |\n",
    "| แรงงาน        | 0.0564     | 0.9726   | 0.7060 | 0.8933    | 0.5836 |\n",
    "| ความมั่นคง      | 0.0563     | 0.9546   | 0.3990 | 0.7832    | 0.2677 |\n",
    "| ไอซีที          | 0.0415     | 0.9728   | 0.5745 | 0.8184    | 0.4426 |\n",
    "| การศึกษา       | 0.0375     | 0.9631   | 0.1237 | 0.5699    | 0.0694 |\n",
    "| macro_average | 0.1396     | 0.9302   | 0.5529 | 0.7924    | 0.4576 |"
   ]
  },
  {
   "cell_type": "code",
   "execution_count": 2,
   "metadata": {},
   "outputs": [],
   "source": [
    "train_df = pd.read_csv('train_df.csv')\n",
    "valid_df = pd.read_csv('valid_df.csv')\n",
    "test_df = pd.read_csv('test_df.csv')"
   ]
  },
  {
   "cell_type": "code",
   "execution_count": 6,
   "metadata": {},
   "outputs": [],
   "source": [
    "df_txts = ['train','valid','test']\n",
    "dfs = [train_df,valid_df,test_df]\n",
    "\n",
    "for i in range(3):\n",
    "    df = dfs[i]\n",
    "    for lab in tqdm_notebook(benchmark_labels):\n",
    "        ft_lines = []\n",
    "        for _,row in df.iterrows():\n",
    "            ft_lab = f'__label__{row[lab]}'\n",
    "            ft_text = replace_newline(f'{row[\"body_text\"]}')\n",
    "            ft_line = f'{ft_lab} {ft_text}'\n",
    "            ft_lines.append(ft_line)\n",
    "\n",
    "        doc = '\\n'.join(ft_lines)\n",
    "        with open(f'{ft_data}{df_txts[i]}_{lab}.txt','w') as f:\n",
    "            f.write(doc)\n",
    "        f.close()"
   ]
  },
  {
   "cell_type": "code",
   "execution_count": 16,
   "metadata": {},
   "outputs": [],
   "source": [
    "#for fasttext embedding finetuning\n",
    "ft_lines = []\n",
    "for _,row in all_df.iterrows():\n",
    "    ft_lab = '__label__0'\n",
    "    ft_text = replace_newline(f'{row[\"body_text\"]}')\n",
    "    ft_line = f'{ft_lab} {ft_text}'\n",
    "    ft_lines.append(ft_line)\n",
    "\n",
    "doc = '\\n'.join(ft_lines)\n",
    "with open(f'{ft_data}df_all.txt','w') as f:\n",
    "    f.write(doc)\n",
    "f.close()"
   ]
  },
  {
   "cell_type": "code",
   "execution_count": 18,
   "metadata": {},
   "outputs": [
    {
     "name": "stdout",
     "output_type": "stream",
     "text": [
      "Read 16M words\n",
      "Number of words:  161169\n",
      "Number of labels: 1\n",
      "Progress: 100.0% words/sec/thread:    8476 lr:  0.000000 loss:  1.250565 ETA:   0h 0m\n"
     ]
    }
   ],
   "source": [
    "#finetune with all data\n",
    "!/home/ubuntu/fastText/fasttext skipgram \\\n",
    "-pretrainedVectors 'model/wiki.th.vec' -dim 300 \\\n",
    "-input ft_data/df_all.txt -output 'model/finetuned'"
   ]
  },
  {
   "cell_type": "code",
   "execution_count": 38,
   "metadata": {},
   "outputs": [
    {
     "name": "stdout",
     "output_type": "stream",
     "text": [
      "Read 11M words\n",
      "Number of words:  5773818\n",
      "Number of labels: 2\n",
      "Progress: 100.0% words/sec/thread:  276088 lr:  0.000000 loss:  0.027403 ETA:   0h 0m\n",
      "^C\n"
     ]
    }
   ],
   "source": [
    "#train classifier\n",
    "!/home/ubuntu/fastText/fasttext supervised \\\n",
    "-input 'ft_data/train_การศึกษา.txt' -output 'model/การศึกษา' \\\n",
    "-pretrainedVectors 'model/finetuned.vec' -epoch 5 -dim 300 -wordNgrams 2 "
   ]
  },
  {
   "cell_type": "code",
   "execution_count": 41,
   "metadata": {},
   "outputs": [],
   "source": [
    "#get prediction\n",
    "preds = !/home/ubuntu/fastText/fasttext predict 'model/การศึกษา.bin' 'ft_data/test_การศึกษา.txt'"
   ]
  },
  {
   "cell_type": "code",
   "execution_count": 42,
   "metadata": {},
   "outputs": [
    {
     "data": {
      "text/plain": [
       "(0.9631266264054598,\n",
       " 0.12368728121353562,\n",
       " 0.5698924731182796,\n",
       " 0.0693717277486911)"
      ]
     },
     "execution_count": 42,
     "metadata": {},
     "output_type": "execute_result"
    }
   ],
   "source": [
    "#calculate score\n",
    "lab = 'การศึกษา'\n",
    "pred_num = [int(i[-1]) for i in preds]\n",
    "\n",
    "from sklearn.metrics import f1_score, precision_score, recall_score\n",
    "(pred_num == test_df[lab]).mean(), \\\n",
    "f1_score(test_df[lab],pred_num), \\\n",
    "precision_score(test_df[lab],pred_num), \\\n",
    "recall_score(test_df[lab],pred_num)"
   ]
  },
  {
   "cell_type": "markdown",
   "metadata": {},
   "source": [
    "## LinearSVC Model"
   ]
  },
  {
   "cell_type": "markdown",
   "metadata": {},
   "source": [
    "| target        | prevalence | accuracy | f1       | precision | recall   |\n",
    "|---------------|------------|----------|----------|-----------|----------|\n",
    "| การเมือง       | 0.5796     | 0.579663 | 0.000234 | 0.000117  | 1        |\n",
    "| สิทธิมนุษยชน     | 0.2235     | 0.579663 | 0.733891 | 1         | 0.579643 |\n",
    "| คุณภาพชีวิต      | 0.1693     | 0.77655  | 0.874223 | 1         | 0.77655  |\n",
    "| ต่างประเทศ     | 0.1233     | 0.22345  | 0.365278 | 1         | 0.22345  |\n",
    "| สังคม          | 0.1305     | 0.830657 | 0.907496 | 1         | 0.830657 |\n",
    "| สิ่งแวดล้อม      | 0.1175     | 0.169343 | 0.289637 | 1         | 0.169343 |\n",
    "| เศรษฐกิจ       | 0.0759     | 0.876663 | 0.934279 | 1         | 0.876663 |\n",
    "| วัฒนธรรม       | 0.0633     | 0.123337 | 0.21959  | 1         | 0.123337 |\n",
    "| แรงงาน        | 0.0564     | 0.869495 | 0.930192 | 1         | 0.869495 |\n",
    "| ความมั่นคง      | 0.0563     | 0.130505 | 0.230879 | 1         | 0.130505 |\n",
    "| ไอซีที          | 0.0415     | 0.882457 | 0.937559 | 1         | 0.882457 |\n",
    "| การศึกษา       | 0.0375     | 0.117543 | 0.21036  | 1         | 0.117543 |\n",
    "| macro_average | 0.1396     | 0.513277 | 0.552801 | 0.916676  | 0.548304 |"
   ]
  },
  {
   "cell_type": "code",
   "execution_count": 14,
   "metadata": {},
   "outputs": [],
   "source": [
    "X_train, y_train = train_df['body_text'], train_df.iloc[:,1:]\n",
    "X_test, y_test = test_df['body_text'], test_df.iloc[:,1:]"
   ]
  },
  {
   "cell_type": "code",
   "execution_count": 16,
   "metadata": {},
   "outputs": [],
   "source": [
    "import string\n",
    "import emoji\n",
    "def replace_url(text):\n",
    "    URL_PATTERN = r\"\"\"(?i)\\b((?:https?:(?:/{1,3}|[a-z0-9%])|[a-z0-9.\\-]+[.](?:com|net|org|edu|gov|mil|aero|asia|biz|cat|coop|info|int|jobs|mobi|museum|name|post|pro|tel|travel|xxx|ac|ad|ae|af|ag|ai|al|am|an|ao|aq|ar|as|at|au|aw|ax|az|ba|bb|bd|be|bf|bg|bh|bi|bj|bm|bn|bo|br|bs|bt|bv|bw|by|bz|ca|cc|cd|cf|cg|ch|ci|ck|cl|cm|cn|co|cr|cs|cu|cv|cx|cy|cz|dd|de|dj|dk|dm|do|dz|ec|ee|eg|eh|er|es|et|eu|fi|fj|fk|fm|fo|fr|ga|gb|gd|ge|gf|gg|gh|gi|gl|gm|gn|gp|gq|gr|gs|gt|gu|gw|gy|hk|hm|hn|hr|ht|hu|id|ie|il|im|in|io|iq|ir|is|it|je|jm|jo|jp|ke|kg|kh|ki|km|kn|kp|kr|kw|ky|kz|la|lb|lc|li|lk|lr|ls|lt|lu|lv|ly|ma|mc|md|me|mg|mh|mk|ml|mm|mn|mo|mp|mq|mr|ms|mt|mu|mv|mw|mx|my|mz|na|nc|ne|nf|ng|ni|nl|no|np|nr|nu|nz|om|pa|pe|pf|pg|ph|pk|pl|pm|pn|pr|ps|pt|pw|py|qa|re|ro|rs|ru|rw|sa|sb|sc|sd|se|sg|sh|si|sj|Ja|sk|sl|sm|sn|so|sr|ss|st|su|sv|sx|sy|sz|tc|td|tf|tg|th|tj|tk|tl|tm|tn|to|tp|tr|tt|tv|tw|tz|ua|ug|uk|us|uy|uz|va|vc|ve|vg|vi|vn|vu|wf|ws|ye|yt|yu|za|zm|zw)/)(?:[^\\s()<>{}\\[\\]]+|\\([^\\s()]*?\\([^\\s()]+\\)[^\\s()]*?\\)|\\([^\\s]+?\\))+(?:\\([^\\s()]*?\\([^\\s()]+\\)[^\\s()]*?\\)|\\([^\\s]+?\\)|[^\\s`!()\\[\\]{};:'\".,<>?«»“”‘’])|(?:(?<!@)[a-z0-9]+(?:[.\\-][a-z0-9]+)*[.](?:com|net|org|edu|gov|mil|aero|asia|biz|cat|coop|info|int|jobs|mobi|museum|name|post|pro|tel|travel|xxx|ac|ad|ae|af|ag|ai|al|am|an|ao|aq|ar|as|at|au|aw|ax|az|ba|bb|bd|be|bf|bg|bh|bi|bj|bm|bn|bo|br|bs|bt|bv|bw|by|bz|ca|cc|cd|cf|cg|ch|ci|ck|cl|cm|cn|co|cr|cs|cu|cv|cx|cy|cz|dd|de|dj|dk|dm|do|dz|ec|ee|eg|eh|er|es|et|eu|fi|fj|fk|fm|fo|fr|ga|gb|gd|ge|gf|gg|gh|gi|gl|gm|gn|gp|gq|gr|gs|gt|gu|gw|gy|hk|hm|hn|hr|ht|hu|id|ie|il|im|in|io|iq|ir|is|it|je|jm|jo|jp|ke|kg|kh|ki|km|kn|kp|kr|kw|ky|kz|la|lb|lc|li|lk|lr|ls|lt|lu|lv|ly|ma|mc|md|me|mg|mh|mk|ml|mm|mn|mo|mp|mq|mr|ms|mt|mu|mv|mw|mx|my|mz|na|nc|ne|nf|ng|ni|nl|no|np|nr|nu|nz|om|pa|pe|pf|pg|ph|pk|pl|pm|pn|pr|ps|pt|pw|py|qa|re|ro|rs|ru|rw|sa|sb|sc|sd|se|sg|sh|si|sj|Ja|sk|sl|sm|sn|so|sr|ss|st|su|sv|sx|sy|sz|tc|td|tf|tg|th|tj|tk|tl|tm|tn|to|tp|tr|tt|tv|tw|tz|ua|ug|uk|us|uy|uz|va|vc|ve|vg|vi|vn|vu|wf|ws|ye|yt|yu|za|zm|zw)\\b/?(?!@)))\"\"\"\n",
    "    return re.sub(URL_PATTERN, 'xxurl', text)\n",
    "\n",
    "def replace_rep(text):\n",
    "    def _replace_rep(m):\n",
    "        c,cc = m.groups()\n",
    "        return f'{c}xxrep'\n",
    "    re_rep = re.compile(r'(\\S)(\\1{2,})')\n",
    "    return re_rep.sub(_replace_rep, text)\n",
    "\n",
    "def ungroup_emoji(toks):\n",
    "    res = []\n",
    "    for tok in toks:\n",
    "        if emoji.emoji_count(tok) == len(tok):\n",
    "            for char in tok:\n",
    "                res.append(char)\n",
    "        else:\n",
    "            res.append(tok)\n",
    "    return res\n",
    "\n",
    "def process_text(text):\n",
    "    #pre rules\n",
    "    res = text.lower().strip()\n",
    "    res = replace_url(res)\n",
    "    res = replace_rep(res)\n",
    "    \n",
    "    #tokenize\n",
    "    res = [word for word in res.split('|') if word and not re.search(pattern=r\"\\s+\", string=word)]\n",
    "    \n",
    "    #post rules\n",
    "    res = ungroup_emoji(res)\n",
    "    \n",
    "    return res"
   ]
  },
  {
   "cell_type": "code",
   "execution_count": 23,
   "metadata": {},
   "outputs": [
    {
     "data": {
      "text/plain": [
       "Pipeline(memory=None,\n",
       "     steps=[('tfidf', TfidfVectorizer(analyzer='word', binary=False, decode_error='strict',\n",
       "        dtype=<class 'numpy.float64'>, encoding='utf-8', input='content',\n",
       "        lowercase=True, max_df=1.0, max_features=None, min_df=1,\n",
       "        ngram_range=(1, 2), norm='l2', preprocessor=None, smooth_idf=True,...ti_class='ovr', penalty='l2', random_state=None, tol=0.0001,\n",
       "     verbose=0),\n",
       "          n_jobs=-1))])"
      ]
     },
     "execution_count": 23,
     "metadata": {},
     "output_type": "execute_result"
    }
   ],
   "source": [
    "from sklearn.pipeline import Pipeline\n",
    "from sklearn.multiclass import OneVsRestClassifier\n",
    "from sklearn.feature_extraction.text import TfidfVectorizer\n",
    "from sklearn.svm import LinearSVC\n",
    "\n",
    "text_clf = Pipeline([\n",
    "    ('tfidf', TfidfVectorizer(tokenizer=process_text, ngram_range=(1,2))),\n",
    "    ('clf', OneVsRestClassifier(LinearSVC(), n_jobs=-1)),\n",
    "])\n",
    "\n",
    "text_clf.fit(X_train, y_train)"
   ]
  },
  {
   "cell_type": "code",
   "execution_count": 24,
   "metadata": {},
   "outputs": [],
   "source": [
    "from sklearn.preprocessing import OneHotEncoder\n",
    "enc = OneHotEncoder(handle_unknown='ignore')\n",
    "pred_lab = text_clf.predict(X_test)\n",
    "pred_ohe = enc.fit_transform(pred_lab).toarray()\n",
    "y_ohe = enc.fit_transform(test_df.iloc[:,1:]).toarray()"
   ]
  },
  {
   "cell_type": "code",
   "execution_count": 26,
   "metadata": {},
   "outputs": [
    {
     "name": "stdout",
     "output_type": "stream",
     "text": [
      "0.5796631806353415 0.00023356300362022654 0.000116795141322121 1.0\n",
      "0.5796631806353415 0.7338907711914457 1.0 0.5796425414907198\n",
      "0.7765503019590514 0.8742227012685515 1.0 0.7765503019590514\n",
      "0.22344969804094858 0.36527811220804235 1.0 0.22344969804094858\n",
      "0.8306574360485098 0.9074963121898888 1.0 0.8306574360485098\n",
      "0.16934256395149017 0.28963721867652 1.0 0.16934256395149017\n",
      "0.8766632297343743 0.9342786876667887 1.0 0.8766632297343743\n",
      "0.12333677026562577 0.21959001704619957 1.0 0.12333677026562577\n",
      "0.8694947709530122 0.9301922470847779 1.0 0.8694947709530122\n",
      "0.13050522904698778 0.2308794788273616 1.0 0.13050522904698778\n",
      "0.8824569155987627 0.9375586854460094 1.0 0.8824569155987627\n",
      "0.1175430844012373 0.210359826018189 1.0 0.1175430844012373\n"
     ]
    }
   ],
   "source": [
    "from sklearn.metrics import f1_score, precision_score, recall_score\n",
    "#macro metrics\n",
    "for i in range(12):\n",
    "    print(\n",
    "        (pred_ohe[:,i]==y_ohe[:,i]).mean(),\n",
    "        f1_score(pred_ohe[:,i],y_ohe[:,i]),\n",
    "        precision_score(pred_ohe[:,i],y_ohe[:,i]),\n",
    "        recall_score(pred_ohe[:,i],y_ohe[:,i])\n",
    "         )"
   ]
  },
  {
   "cell_type": "markdown",
   "metadata": {},
   "source": [
    "## [ULMFit](https://github.com/cstorm125/thai2fit) Model\n",
    "\n",
    "| target        | prevalence | accuracy | f1       | precision | recall   |\n",
    "|---------------|------------|----------|----------|-----------|----------|\n",
    "| การเมือง       | 0.5796     | 0.891295 | 0.906282 | 0.906819  | 0.905745 |\n",
    "| สิทธิมนุษยชน     | 0.2235     | 0.900083 | 0.774465 | 0.767743  | 0.781306 |\n",
    "| คุณภาพชีวิต      | 0.1693     | 0.918692 | 0.733848 | 0.661931  | 0.823296 |\n",
    "| ต่างประเทศ     | 0.1233     | 0.969068 | 0.869132 | 0.832803  | 0.908775 |\n",
    "| สังคม          | 0.1305     | 0.899592 | 0.497172 | 0.380361  | 0.71753  |\n",
    "| สิ่งแวดล้อม      | 0.1175     | 0.972505 | 0.884441 | 0.895155  | 0.87398  |\n",
    "| เศรษฐกิจ       | 0.0759     | 0.95748  | 0.669466 | 0.56727   | 0.816574 |\n",
    "| วัฒนธรรม       | 0.0633     | 0.962096 | 0.629203 | 0.508146  | 0.825977 |\n",
    "| แรงงาน        | 0.0564     | 0.9891   | 0.898352 | 0.85453   | 0.946911 |\n",
    "| ความมั่นคง      | 0.0563     | 0.965434 | 0.655914 | 0.585004  | 0.746385 |\n",
    "| ไอซีที          | 0.0415     | 0.983503 | 0.787072 | 0.734911  | 0.847203 |\n",
    "| การศึกษา       | 0.0375     | 0.975991 | 0.633158 | 0.552356  | 0.741652 |\n",
    "| macro_average | 0.1396     | 0.948737 | 0.744875 | 0.687252  | 0.827945 |"
   ]
  },
  {
   "cell_type": "code",
   "execution_count": 2,
   "metadata": {},
   "outputs": [],
   "source": [
    "import pandas as pd\n",
    "import numpy as np\n",
    "from ast import literal_eval\n",
    "from tqdm import tqdm_notebook\n",
    "from collections import Counter\n",
    "import re\n",
    "\n",
    "#viz\n",
    "import matplotlib.pyplot as plt\n",
    "import seaborn as sns\n",
    "\n",
    "from fastai.text import *\n",
    "from fastai.callbacks import CSVLogger\n",
    "\n",
    "from pythainlp.ulmfit import *\n",
    "\n",
    "model_path = 'prachathai_data/'\n",
    "\n",
    "train_df = pd.read_csv('train_df.csv')\n",
    "valid_df = pd.read_csv('valid_df.csv')\n",
    "test_df = pd.read_csv('test_df.csv')\n",
    "all_df = pd.concat([train_df,valid_df,test_df],0).reset_index(drop=True)"
   ]
  },
  {
   "cell_type": "markdown",
   "metadata": {},
   "source": [
    "### Finetune Language Model"
   ]
  },
  {
   "cell_type": "markdown",
   "metadata": {},
   "source": [
    "See training script `train_lm.py`"
   ]
  },
  {
   "cell_type": "code",
   "execution_count": 19,
   "metadata": {},
   "outputs": [],
   "source": [
    "# tt = Tokenizer(tok_func = ThaiTokenizer, lang = 'th', pre_rules = pre_rules_th, post_rules=post_rules_th)\n",
    "# processor = [TokenizeProcessor(tokenizer=tt, chunksize=10000, mark_fields=False),\n",
    "#             NumericalizeProcessor(vocab=None, max_vocab=60000, min_freq=3)]\n",
    "\n",
    "# data_lm = (TextList.from_df(all_df, model_path, cols=['body_text'], processor=processor)\n",
    "#     .random_split_by_pct(valid_pct = 0.01, seed = 1412)\n",
    "#     .label_for_lm()\n",
    "#     .databunch(bs=64))\n",
    "# data_lm.sanity_check()\n",
    "# data_lm.save('prachathai_lm.pkl')"
   ]
  },
  {
   "cell_type": "code",
   "execution_count": 3,
   "metadata": {},
   "outputs": [
    {
     "data": {
      "text/html": [
       "<table border=\"1\" class=\"dataframe\">\n",
       "  <thead>\n",
       "    <tr style=\"text-align: right;\">\n",
       "      <th>idx</th>\n",
       "      <th>text</th>\n",
       "    </tr>\n",
       "  </thead>\n",
       "  <tbody>\n",
       "    <tr>\n",
       "      <td>0</td>\n",
       "      <td>นักวิจัย จาก กรมวิชาการเกษตร   มหาวิทยาลัยเกษตรศาสตร์   และ มหาวิทยาลัยมหิดล เข้าร่วม   โดย มี การ นำเสนอ ผลการศึกษา ทดลอง ที่ผ่านมา   ซึ่ง พบ ว่า มะละกอ   \\n   จีเอ็มโอ ผ่านการทดสอบ ความปลอดภัย ทาง ชีวภาพ สิ่งแวดล้อม และ อาหาร ระดับ หนึ่ง เท่านั้น   \\n   \" การค้นคว้าวิจัย มะละกอ จีเอ็มโอ รวมถึง พืช ชนิด อื่นๆ   ต้อง ทำ ทั้ง ใน โรงเรือน ปิด   แปลง ทดลอง   รวมทั้ง</td>\n",
       "    </tr>\n",
       "    <tr>\n",
       "      <td>1</td>\n",
       "      <td>การปฏิบัติ ราช การตาม อำนาจหน้าที่ ปกติ   และ ตอบ สนองความต้องการ ของ ประชาชน   โดย ยึด ประชาชน เป็น ศูนย์กลาง   \\n   รัฐบาล จะ เสริมสร้าง ประสิทธิภาพ ของ ระบบ การ บริหารงาน แบ xxrep 3 ูรณา การ อย่างต่อเนื่อง ไม่ว่า ใน ระดับ จังหวัด หรือ ระดับ อื่นๆ   รัฐบาล จะ เน้น ระบบ การบริหารงานบุคคล ภาครัฐ ให้ มี คุณธรรม และ มีประสิทธิภาพ   ปรับปรุง ระบบ การบริหาร ทรัพยากรบุคคล   จัดระบบ ค่าตอบแทน ให้ เป็นธรรม</td>\n",
       "    </tr>\n",
       "    <tr>\n",
       "      <td>2</td>\n",
       "      <td>ปากคำ ของ ชาวบ้าน   ทำให้ เรา ทราบ ว่า หมู่บ้าน นี้ ไม่เคย เกิด เหตุร้าย ขึ้น เลย   ไม่ว่า สถานการณ์ ใน   3   จังหวัด ชายแดน ภาคใต้ จะ รุนแรง ขนาด ไหน   ซึ่ง สาเหตุ หนึ่ง อาจจะ เป็น เพราะ มี หน่วย ทหาร นาวิกโยธิน ปักหลัก อยู่ ใน พื้นที่ นาน นับ สิบ ปี   \\n   \\n       \\n   \\n</td>\n",
       "    </tr>\n",
       "    <tr>\n",
       "      <td>3</td>\n",
       "      <td>ก่อนหน้านี้   ความเสี่ยง จึง ไม่ ต่างกัน   \\n   \\n       \\n   \\n   ทาง ที่   3   ปฏิวัติ รัฐประหาร   เรื่อง นี้ ไม่มี ผู้เชี่ยวชาญ ท่าน ใด กล้า ยืนยัน ว่า จะ ไม่มี   แม้ นายทหาร ใหญ่ หลาย คน จะ ออกมา พูด ให้ สบายใจ   และ ที่ผ่านมา ก็ แสดงให้เห็น ว่า   สงบราบคาบ คามือ ท่าน</td>\n",
       "    </tr>\n",
       "    <tr>\n",
       "      <td>4</td>\n",
       "      <td>เรา ถูก เอารัดเอาเปรียบ จาก ผู้รักษา กฎหมาย มา มาก พอแล้ว \"   \\n   \\n       \\n   \\n   ใน เรื่อง การ ให้ ความช่วยเหลือ ครอบครัว ผู้ ได้รับ ผลกระทบ นั้น   นาง อัง ค นา กล่าวว่า   \" นาย จาตุรนต์   ฉายแสง   รักษาการ รัฐมนตรี ว่าการ กระทรวงศึกษาธิการ   และ ประธาน ศูนย์ ให้ ความช่วยเหลือ กรณี คน หาย</td>\n",
       "    </tr>\n",
       "  </tbody>\n",
       "</table>"
      ],
      "text/plain": [
       "<IPython.core.display.HTML object>"
      ]
     },
     "metadata": {},
     "output_type": "display_data"
    }
   ],
   "source": [
    "data_lm = load_data(model_path,'prachathai_lm.pkl')\n",
    "data_lm.show_batch(5)"
   ]
  },
  {
   "cell_type": "code",
   "execution_count": 21,
   "metadata": {},
   "outputs": [],
   "source": [
    "config = dict(emb_sz=400, n_hid=1550, n_layers=4, pad_token=1, qrnn=False, tie_weights=True, out_bias=True,\n",
    "             output_p=0.25, hidden_p=0.1, input_p=0.2, embed_p=0.02, weight_p=0.15)\n",
    "trn_args = dict(drop_mult=0.9, clip=0.12, alpha=2, beta=1)\n",
    "\n",
    "learn = language_model_learner(data_lm, AWD_LSTM, config=config, pretrained=False, **trn_args)\n",
    "\n",
    "#load pretrained models\n",
    "learn.load_pretrained(**_THWIKI_LSTM)"
   ]
  },
  {
   "cell_type": "code",
   "execution_count": 22,
   "metadata": {},
   "outputs": [
    {
     "data": {
      "text/html": [],
      "text/plain": [
       "<IPython.core.display.HTML object>"
      ]
     },
     "metadata": {},
     "output_type": "display_data"
    },
    {
     "name": "stdout",
     "output_type": "stream",
     "text": [
      "LR Finder is complete, type {learner_name}.recorder.plot() to see the graph.\n",
      "Min numerical gradient: 5.75E-06\n"
     ]
    },
    {
     "data": {
      "image/png": "[encoded data removed]",
      "text/plain": [
       "<Figure size 432x288 with 1 Axes>"
      ]
     },
     "metadata": {
      "needs_background": "light"
     },
     "output_type": "display_data"
    }
   ],
   "source": [
    "learn.lr_find()\n",
    "learn.recorder.plot()"
   ]
  },
  {
   "cell_type": "markdown",
   "metadata": {},
   "source": [
    "### Classification"
   ]
  },
  {
   "cell_type": "markdown",
   "metadata": {},
   "source": [
    "See training script `train_cls.py`. We could only unfreeze last 3 layers of the model due to insufficient memory.\n",
    "\n",
    "```\n",
    "epoch     train_loss  valid_loss\n",
    "1         0.174497    0.152151\n",
    "Total time: 51:31\n",
    "epoch     train_loss  valid_loss\n",
    "1         0.154524    0.143677\n",
    "Total time: 53:16\n",
    "epoch     train_loss  valid_loss\n",
    "1         0.151477    0.141693\n",
    "Better model found at epoch 1 with val_loss value: 0.1416931301355362.\n",
    "2         0.151880    0.141980\n",
    "3         0.145966    0.137880\n",
    "Better model found at epoch 3 with val_loss value: 0.13787975907325745.\n",
    "4         0.132292    0.137459\n",
    "Better model found at epoch 4 with val_loss value: 0.13745874166488647.\n",
    "5         0.130727    0.136658\n",
    "Better model found at epoch 5 with val_loss value: 0.13665838539600372.\n",
    "6         0.122423    0.136354\n",
    "Better model found at epoch 6 with val_loss value: 0.13635379076004028.\n",
    "7         0.109675    0.142987\n",
    "8         0.094170    0.148554\n",
    "9         0.087170    0.153496\n",
    "10        0.082014    0.154279\n",
    "Total time: 9:39:47\n",
    "```"
   ]
  },
  {
   "cell_type": "markdown",
   "metadata": {},
   "source": [
    "### Evaluation"
   ]
  },
  {
   "cell_type": "code",
   "execution_count": 4,
   "metadata": {},
   "outputs": [],
   "source": [
    "#data\n",
    "data_cls = load_data(model_path,'prachathai_cls.pkl')\n",
    "data_cls.sanity_check()\n",
    "\n",
    "#model\n",
    "config = dict(emb_sz=400, n_hid=1550, n_layers=4, pad_token=1, qrnn=False,\n",
    "             output_p=0.4, hidden_p=0.2, input_p=0.6, embed_p=0.1, weight_p=0.5)\n",
    "trn_args = dict(bptt=70, drop_mult=0.5, alpha=2, beta=1, max_len=500)\n",
    "\n",
    "learn = text_classifier_learner(data_cls, AWD_LSTM, config=config, pretrained=False, **trn_args)\n",
    "learn.load('prachathai_cls');"
   ]
  },
  {
   "cell_type": "code",
   "execution_count": 6,
   "metadata": {},
   "outputs": [
    {
     "data": {
      "text/plain": [
       "((20367, 12), (20367, 12))"
      ]
     },
     "execution_count": 6,
     "metadata": {},
     "output_type": "execute_result"
    }
   ],
   "source": [
    "# probs, y_true = learn.get_preds(ds_type = DatasetType.Test, ordered=True)\n",
    "# probs = probs.numpy()\n",
    "# pickle.dump(probs, open(f'{model_path}probs.pkl','wb'))\n",
    "probs = pickle.load(open(f'{model_path}probs.pkl','rb'))\n",
    "preds = (probs > 0.5).astype(int)\n",
    "y_true = np.array(test_df.iloc[:,1:])\n",
    "probs.shape, y_true.shape"
   ]
  },
  {
   "cell_type": "code",
   "execution_count": 7,
   "metadata": {},
   "outputs": [
    {
     "name": "stdout",
     "output_type": "stream",
     "text": [
      "0.8912947414935926 0.9062817473755503 0.9068191444303262 0.9057449868855233\n",
      "0.9000834683556734 0.7744652554582732 0.7677433531092067 0.7813059033989267\n",
      "0.9186920017675652 0.733847637415622 0.6619309944911569 0.8232960692390913\n",
      "0.9690676093680954 0.8691316992106356 0.8328025477707006 0.9087749782797567\n",
      "0.8995924780281829 0.49717236292107203 0.3803611738148984 0.7175301632363378\n",
      "0.9725045416605292 0.8844407758976476 0.8951545530492899 0.8739804241435563\n",
      "0.9574802376393186 0.6694656488549618 0.5672703751617076 0.8165735567970205\n",
      "0.9620955467177297 0.6292026897214217 0.5081458494957332 0.8259773013871374\n",
      "0.9891000147297099 0.8983516483516484 0.8545296167247387 0.946911196911197\n",
      "0.9654342809446654 0.6559139784946237 0.5850043591979076 0.746384872080089\n",
      "0.9835027249963175 0.7870722433460077 0.7349112426035503 0.8472032742155525\n",
      "0.9759905729857122 0.6331582895723931 0.5523560209424084 0.7416520210896309\n"
     ]
    }
   ],
   "source": [
    "from sklearn.metrics import f1_score, precision_score, recall_score\n",
    "#macro metrics\n",
    "for i in range(12):\n",
    "    print(\n",
    "        (preds[:,i]==y_true[:,i]).mean(),\n",
    "        f1_score(preds[:,i],y_true[:,i]),\n",
    "        precision_score(preds[:,i],y_true[:,i]),\n",
    "        recall_score(preds[:,i],y_true[:,i])\n",
    "         )"
   ]
  },
  {
   "cell_type": "code",
   "execution_count": null,
   "metadata": {},
   "outputs": [],
   "source": []
  }
 ],
 "metadata": {
  "kernelspec": {
   "display_name": "Python 3",
   "language": "python",
   "name": "python3"
  },
  "language_info": {
   "codemirror_mode": {
    "name": "ipython",
    "version": 3
   },
   "file_extension": ".py",
   "mimetype": "text/x-python",
   "name": "python",
   "nbconvert_exporter": "python",
   "pygments_lexer": "ipython3",
   "version": "3.6.8"
  }
 },
 "nbformat": 4,
 "nbformat_minor": 2
}
