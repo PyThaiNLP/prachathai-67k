{
  "nbformat": 4,
  "nbformat_minor": 0,
  "metadata": {
    "kernelspec": {
      "display_name": "Python 3",
      "language": "python",
      "name": "python3"
    },
    "language_info": {
      "codemirror_mode": {
        "name": "ipython",
        "version": 3
      },
      "file_extension": ".py",
      "mimetype": "text/x-python",
      "name": "python",
      "nbconvert_exporter": "python",
      "pygments_lexer": "ipython3",
      "version": "3.6.8"
    },
    "colab": {
      "name": "classification.ipynb",
      "provenance": [],
      "toc_visible": true
    },
    "accelerator": "GPU",
    "widgets": {
      "application/vnd.jupyter.widget-state+json": {
        "cf077773c3344b7097a14da59ce5e48e": {
          "model_module": "@jupyter-widgets/controls",
          "model_name": "HBoxModel",
          "state": {
            "_view_name": "HBoxView",
            "_dom_classes": [],
            "_model_name": "HBoxModel",
            "_view_module": "@jupyter-widgets/controls",
            "_model_module_version": "1.5.0",
            "_view_count": null,
            "_view_module_version": "1.5.0",
            "box_style": "",
            "layout": "IPY_MODEL_300e8bc76d2d43398140d30408a42229",
            "_model_module": "@jupyter-widgets/controls",
            "children": [
              "IPY_MODEL_a5cc5cf6efae424b8e3241421da29bef",
              "IPY_MODEL_c355651bfaa6468ebfecb40533da5db1"
            ]
          }
        },
        "300e8bc76d2d43398140d30408a42229": {
          "model_module": "@jupyter-widgets/base",
          "model_name": "LayoutModel",
          "state": {
            "_view_name": "LayoutView",
            "grid_template_rows": null,
            "right": null,
            "justify_content": null,
            "_view_module": "@jupyter-widgets/base",
            "overflow": null,
            "_model_module_version": "1.2.0",
            "_view_count": null,
            "flex_flow": null,
            "width": null,
            "min_width": null,
            "border": null,
            "align_items": null,
            "bottom": null,
            "_model_module": "@jupyter-widgets/base",
            "top": null,
            "grid_column": null,
            "overflow_y": null,
            "overflow_x": null,
            "grid_auto_flow": null,
            "grid_area": null,
            "grid_template_columns": null,
            "flex": null,
            "_model_name": "LayoutModel",
            "justify_items": null,
            "grid_row": null,
            "max_height": null,
            "align_content": null,
            "visibility": null,
            "align_self": null,
            "height": null,
            "min_height": null,
            "padding": null,
            "grid_auto_rows": null,
            "grid_gap": null,
            "max_width": null,
            "order": null,
            "_view_module_version": "1.2.0",
            "grid_template_areas": null,
            "object_position": null,
            "object_fit": null,
            "grid_auto_columns": null,
            "margin": null,
            "display": null,
            "left": null
          }
        },
        "a5cc5cf6efae424b8e3241421da29bef": {
          "model_module": "@jupyter-widgets/controls",
          "model_name": "FloatProgressModel",
          "state": {
            "_view_name": "ProgressView",
            "style": "IPY_MODEL_eff27be540614d389066392c0202ad7b",
            "_dom_classes": [],
            "description": "100%",
            "_model_name": "FloatProgressModel",
            "bar_style": "success",
            "max": 1358,
            "_view_module": "@jupyter-widgets/controls",
            "_model_module_version": "1.5.0",
            "value": 1358,
            "_view_count": null,
            "_view_module_version": "1.5.0",
            "orientation": "horizontal",
            "min": 0,
            "description_tooltip": null,
            "_model_module": "@jupyter-widgets/controls",
            "layout": "IPY_MODEL_9ef06c870c3042bf91867e75ee7e6233"
          }
        },
        "c355651bfaa6468ebfecb40533da5db1": {
          "model_module": "@jupyter-widgets/controls",
          "model_name": "HTMLModel",
          "state": {
            "_view_name": "HTMLView",
            "style": "IPY_MODEL_14979e8271c64f0984d196f21543efb1",
            "_dom_classes": [],
            "description": "",
            "_model_name": "HTMLModel",
            "placeholder": "​",
            "_view_module": "@jupyter-widgets/controls",
            "_model_module_version": "1.5.0",
            "value": " 1358/1358 [02:30&lt;00:00,  9.02it/s]",
            "_view_count": null,
            "_view_module_version": "1.5.0",
            "description_tooltip": null,
            "_model_module": "@jupyter-widgets/controls",
            "layout": "IPY_MODEL_f0fb2d3896cd43ceb70b3591a988be6e"
          }
        },
        "eff27be540614d389066392c0202ad7b": {
          "model_module": "@jupyter-widgets/controls",
          "model_name": "ProgressStyleModel",
          "state": {
            "_view_name": "StyleView",
            "_model_name": "ProgressStyleModel",
            "description_width": "initial",
            "_view_module": "@jupyter-widgets/base",
            "_model_module_version": "1.5.0",
            "_view_count": null,
            "_view_module_version": "1.2.0",
            "bar_color": null,
            "_model_module": "@jupyter-widgets/controls"
          }
        },
        "9ef06c870c3042bf91867e75ee7e6233": {
          "model_module": "@jupyter-widgets/base",
          "model_name": "LayoutModel",
          "state": {
            "_view_name": "LayoutView",
            "grid_template_rows": null,
            "right": null,
            "justify_content": null,
            "_view_module": "@jupyter-widgets/base",
            "overflow": null,
            "_model_module_version": "1.2.0",
            "_view_count": null,
            "flex_flow": null,
            "width": null,
            "min_width": null,
            "border": null,
            "align_items": null,
            "bottom": null,
            "_model_module": "@jupyter-widgets/base",
            "top": null,
            "grid_column": null,
            "overflow_y": null,
            "overflow_x": null,
            "grid_auto_flow": null,
            "grid_area": null,
            "grid_template_columns": null,
            "flex": null,
            "_model_name": "LayoutModel",
            "justify_items": null,
            "grid_row": null,
            "max_height": null,
            "align_content": null,
            "visibility": null,
            "align_self": null,
            "height": null,
            "min_height": null,
            "padding": null,
            "grid_auto_rows": null,
            "grid_gap": null,
            "max_width": null,
            "order": null,
            "_view_module_version": "1.2.0",
            "grid_template_areas": null,
            "object_position": null,
            "object_fit": null,
            "grid_auto_columns": null,
            "margin": null,
            "display": null,
            "left": null
          }
        },
        "14979e8271c64f0984d196f21543efb1": {
          "model_module": "@jupyter-widgets/controls",
          "model_name": "DescriptionStyleModel",
          "state": {
            "_view_name": "StyleView",
            "_model_name": "DescriptionStyleModel",
            "description_width": "",
            "_view_module": "@jupyter-widgets/base",
            "_model_module_version": "1.5.0",
            "_view_count": null,
            "_view_module_version": "1.2.0",
            "_model_module": "@jupyter-widgets/controls"
          }
        },
        "f0fb2d3896cd43ceb70b3591a988be6e": {
          "model_module": "@jupyter-widgets/base",
          "model_name": "LayoutModel",
          "state": {
            "_view_name": "LayoutView",
            "grid_template_rows": null,
            "right": null,
            "justify_content": null,
            "_view_module": "@jupyter-widgets/base",
            "overflow": null,
            "_model_module_version": "1.2.0",
            "_view_count": null,
            "flex_flow": null,
            "width": null,
            "min_width": null,
            "border": null,
            "align_items": null,
            "bottom": null,
            "_model_module": "@jupyter-widgets/base",
            "top": null,
            "grid_column": null,
            "overflow_y": null,
            "overflow_x": null,
            "grid_auto_flow": null,
            "grid_area": null,
            "grid_template_columns": null,
            "flex": null,
            "_model_name": "LayoutModel",
            "justify_items": null,
            "grid_row": null,
            "max_height": null,
            "align_content": null,
            "visibility": null,
            "align_self": null,
            "height": null,
            "min_height": null,
            "padding": null,
            "grid_auto_rows": null,
            "grid_gap": null,
            "max_width": null,
            "order": null,
            "_view_module_version": "1.2.0",
            "grid_template_areas": null,
            "object_position": null,
            "object_fit": null,
            "grid_auto_columns": null,
            "margin": null,
            "display": null,
            "left": null
          }
        },
        "9836b2c0897247b0887680f1492a70a2": {
          "model_module": "@jupyter-widgets/controls",
          "model_name": "HBoxModel",
          "state": {
            "_view_name": "HBoxView",
            "_dom_classes": [],
            "_model_name": "HBoxModel",
            "_view_module": "@jupyter-widgets/controls",
            "_model_module_version": "1.5.0",
            "_view_count": null,
            "_view_module_version": "1.5.0",
            "box_style": "",
            "layout": "IPY_MODEL_2b1b27a2c6d94b1c851c253b4546b588",
            "_model_module": "@jupyter-widgets/controls",
            "children": [
              "IPY_MODEL_f65e1e2bc3ee4316bea009866f41aac5",
              "IPY_MODEL_a33e67aa4e83473a93813ff9fdda3ccc"
            ]
          }
        },
        "2b1b27a2c6d94b1c851c253b4546b588": {
          "model_module": "@jupyter-widgets/base",
          "model_name": "LayoutModel",
          "state": {
            "_view_name": "LayoutView",
            "grid_template_rows": null,
            "right": null,
            "justify_content": null,
            "_view_module": "@jupyter-widgets/base",
            "overflow": null,
            "_model_module_version": "1.2.0",
            "_view_count": null,
            "flex_flow": null,
            "width": null,
            "min_width": null,
            "border": null,
            "align_items": null,
            "bottom": null,
            "_model_module": "@jupyter-widgets/base",
            "top": null,
            "grid_column": null,
            "overflow_y": null,
            "overflow_x": null,
            "grid_auto_flow": null,
            "grid_area": null,
            "grid_template_columns": null,
            "flex": null,
            "_model_name": "LayoutModel",
            "justify_items": null,
            "grid_row": null,
            "max_height": null,
            "align_content": null,
            "visibility": null,
            "align_self": null,
            "height": null,
            "min_height": null,
            "padding": null,
            "grid_auto_rows": null,
            "grid_gap": null,
            "max_width": null,
            "order": null,
            "_view_module_version": "1.2.0",
            "grid_template_areas": null,
            "object_position": null,
            "object_fit": null,
            "grid_auto_columns": null,
            "margin": null,
            "display": null,
            "left": null
          }
        },
        "f65e1e2bc3ee4316bea009866f41aac5": {
          "model_module": "@jupyter-widgets/controls",
          "model_name": "FloatProgressModel",
          "state": {
            "_view_name": "ProgressView",
            "style": "IPY_MODEL_37688a9bff4543cb9fb0b5018ed1d1f5",
            "_dom_classes": [],
            "description": "100%",
            "_model_name": "FloatProgressModel",
            "bar_style": "success",
            "max": 4753,
            "_view_module": "@jupyter-widgets/controls",
            "_model_module_version": "1.5.0",
            "value": 4753,
            "_view_count": null,
            "_view_module_version": "1.5.0",
            "orientation": "horizontal",
            "min": 0,
            "description_tooltip": null,
            "_model_module": "@jupyter-widgets/controls",
            "layout": "IPY_MODEL_ab233118e37b4397a85cac479cf0b13f"
          }
        },
        "a33e67aa4e83473a93813ff9fdda3ccc": {
          "model_module": "@jupyter-widgets/controls",
          "model_name": "HTMLModel",
          "state": {
            "_view_name": "HTMLView",
            "style": "IPY_MODEL_39fdbf2286ba43d6afd56e5312f11bff",
            "_dom_classes": [],
            "description": "",
            "_model_name": "HTMLModel",
            "placeholder": "​",
            "_view_module": "@jupyter-widgets/controls",
            "_model_module_version": "1.5.0",
            "value": " 4753/4753 [08:30&lt;00:00,  9.31it/s]",
            "_view_count": null,
            "_view_module_version": "1.5.0",
            "description_tooltip": null,
            "_model_module": "@jupyter-widgets/controls",
            "layout": "IPY_MODEL_d628d456ba5f4561b51993fa1c0e2c75"
          }
        },
        "37688a9bff4543cb9fb0b5018ed1d1f5": {
          "model_module": "@jupyter-widgets/controls",
          "model_name": "ProgressStyleModel",
          "state": {
            "_view_name": "StyleView",
            "_model_name": "ProgressStyleModel",
            "description_width": "initial",
            "_view_module": "@jupyter-widgets/base",
            "_model_module_version": "1.5.0",
            "_view_count": null,
            "_view_module_version": "1.2.0",
            "bar_color": null,
            "_model_module": "@jupyter-widgets/controls"
          }
        },
        "ab233118e37b4397a85cac479cf0b13f": {
          "model_module": "@jupyter-widgets/base",
          "model_name": "LayoutModel",
          "state": {
            "_view_name": "LayoutView",
            "grid_template_rows": null,
            "right": null,
            "justify_content": null,
            "_view_module": "@jupyter-widgets/base",
            "overflow": null,
            "_model_module_version": "1.2.0",
            "_view_count": null,
            "flex_flow": null,
            "width": null,
            "min_width": null,
            "border": null,
            "align_items": null,
            "bottom": null,
            "_model_module": "@jupyter-widgets/base",
            "top": null,
            "grid_column": null,
            "overflow_y": null,
            "overflow_x": null,
            "grid_auto_flow": null,
            "grid_area": null,
            "grid_template_columns": null,
            "flex": null,
            "_model_name": "LayoutModel",
            "justify_items": null,
            "grid_row": null,
            "max_height": null,
            "align_content": null,
            "visibility": null,
            "align_self": null,
            "height": null,
            "min_height": null,
            "padding": null,
            "grid_auto_rows": null,
            "grid_gap": null,
            "max_width": null,
            "order": null,
            "_view_module_version": "1.2.0",
            "grid_template_areas": null,
            "object_position": null,
            "object_fit": null,
            "grid_auto_columns": null,
            "margin": null,
            "display": null,
            "left": null
          }
        },
        "39fdbf2286ba43d6afd56e5312f11bff": {
          "model_module": "@jupyter-widgets/controls",
          "model_name": "DescriptionStyleModel",
          "state": {
            "_view_name": "StyleView",
            "_model_name": "DescriptionStyleModel",
            "description_width": "",
            "_view_module": "@jupyter-widgets/base",
            "_model_module_version": "1.5.0",
            "_view_count": null,
            "_view_module_version": "1.2.0",
            "_model_module": "@jupyter-widgets/controls"
          }
        },
        "d628d456ba5f4561b51993fa1c0e2c75": {
          "model_module": "@jupyter-widgets/base",
          "model_name": "LayoutModel",
          "state": {
            "_view_name": "LayoutView",
            "grid_template_rows": null,
            "right": null,
            "justify_content": null,
            "_view_module": "@jupyter-widgets/base",
            "overflow": null,
            "_model_module_version": "1.2.0",
            "_view_count": null,
            "flex_flow": null,
            "width": null,
            "min_width": null,
            "border": null,
            "align_items": null,
            "bottom": null,
            "_model_module": "@jupyter-widgets/base",
            "top": null,
            "grid_column": null,
            "overflow_y": null,
            "overflow_x": null,
            "grid_auto_flow": null,
            "grid_area": null,
            "grid_template_columns": null,
            "flex": null,
            "_model_name": "LayoutModel",
            "justify_items": null,
            "grid_row": null,
            "max_height": null,
            "align_content": null,
            "visibility": null,
            "align_self": null,
            "height": null,
            "min_height": null,
            "padding": null,
            "grid_auto_rows": null,
            "grid_gap": null,
            "max_width": null,
            "order": null,
            "_view_module_version": "1.2.0",
            "grid_template_areas": null,
            "object_position": null,
            "object_fit": null,
            "grid_auto_columns": null,
            "margin": null,
            "display": null,
            "left": null
          }
        }
      }
    }
  },
  "cells": [
    {
      "cell_type": "markdown",
      "metadata": {
        "id": "5WswBmF43kKw",
        "colab_type": "text"
      },
      "source": [
        "# `prachathai-67k` Classification Benchmark"
      ]
    },
    {
      "cell_type": "markdown",
      "metadata": {
        "id": "TNVntLxT3kKy",
        "colab_type": "text"
      },
      "source": [
        "We provide 3 benchmarks for 12-topic multi-label classification of `prachathai-67k`: [fastText](https://github.com/facebookresearch/fastText), LinearSVC and [ULMFit](https://github.com/cstorm125/thai2fit). In all cases, we first finetune the embeddings using all data. The data is then split into train, validation and test sets at 70/10/20 split. The benchmark numbers are based on the test set. Performance metrics are macro-averaged accuracy and F1 score.\n",
        "\n",
        "| model     | macro-accuracy | macro-F1 |\n",
        "|-----------|----------------|----------|\n",
        "| fastText  | 0.9302         | 0.5529   |\n",
        "| LinearSVC | 0.513277       | 0.552801 |\n",
        "| **ULMFit**    | **0.948737**       | **0.744875**\t |\n",
        "| [USE](https://tfhub.dev/google/universal-sentence-encoder-multilingual/3)    | 0.856091    | 0.696172\t |"
      ]
    },
    {
      "cell_type": "code",
      "metadata": {
        "id": "mQt5mvhy3s32",
        "colab_type": "code",
        "colab": {
          "base_uri": "https://localhost:8080/",
          "height": 1000
        },
        "outputId": "09217000-3811-4378-e862-8483ef97724b"
      },
      "source": [
        "#colab\n",
        "!wget https://github.com/PyThaiNLP/prachathai-67k/archive/master.zip; unzip master.zip\n",
        "!cd prachathai-67k-master; mv * ../\n",
        "!wget https://www.dropbox.com/s/fsxepdka4l2pr45/prachathai-67k.zip; unzip prachathai-67k.zip\n",
        "!pip install tensorflow_text\n",
        "!pip install https://github.com/PyThaiNLP/pythainlp/archive/dev.zip\n",
        "!pip install iterative-stratification\n",
        "!ls"
      ],
      "execution_count": 1,
      "outputs": [
        {
          "output_type": "stream",
          "text": [
            "--2020-05-22 15:21:22--  https://github.com/PyThaiNLP/prachathai-67k/archive/master.zip\n",
            "Resolving github.com (github.com)... 140.82.114.4\n",
            "Connecting to github.com (github.com)|140.82.114.4|:443... connected.\n",
            "HTTP request sent, awaiting response... 302 Found\n",
            "Location: https://codeload.github.com/PyThaiNLP/prachathai-67k/zip/master [following]\n",
            "--2020-05-22 15:21:23--  https://codeload.github.com/PyThaiNLP/prachathai-67k/zip/master\n",
            "Resolving codeload.github.com (codeload.github.com)... 140.82.113.9\n",
            "Connecting to codeload.github.com (codeload.github.com)|140.82.113.9|:443... connected.\n",
            "HTTP request sent, awaiting response... 200 OK\n",
            "Length: unspecified [application/zip]\n",
            "Saving to: ‘master.zip’\n",
            "\n",
            "master.zip              [   <=>              ] 659.79K   726KB/s    in 0.9s    \n",
            "\n",
            "2020-05-22 15:21:24 (726 KB/s) - ‘master.zip’ saved [675630]\n",
            "\n",
            "Archive:  master.zip\n",
            "af6ba791cdf4ffcaaa97baaa1daadab5216a73d4\n",
            "   creating: prachathai-67k-master/\n",
            "  inflating: prachathai-67k-master/.gitignore  \n",
            "  inflating: prachathai-67k-master/LICENSE  \n",
            "  inflating: prachathai-67k-master/README.md  \n",
            "  inflating: prachathai-67k-master/class_features.py  \n",
            "  inflating: prachathai-67k-master/classification.ipynb  \n",
            "  inflating: prachathai-67k-master/exploration.ipynb  \n",
            "    linking: prachathai-67k-master/pythainlp  -> ../pythainlp/pythainlp/ \n",
            "  inflating: prachathai-67k-master/test_idx.pkl  \n",
            "  inflating: prachathai-67k-master/thsarabunnew-webfont.ttf  \n",
            "  inflating: prachathai-67k-master/train_cls.py  \n",
            "  inflating: prachathai-67k-master/train_lm.py  \n",
            "  inflating: prachathai-67k-master/train_valid_idx.pkl  \n",
            "finishing deferred symbolic links:\n",
            "  prachathai-67k-master/pythainlp -> ../pythainlp/pythainlp/\n",
            "--2020-05-22 15:21:28--  https://www.dropbox.com/s/fsxepdka4l2pr45/prachathai-67k.zip\n",
            "Resolving www.dropbox.com (www.dropbox.com)... 162.125.82.1, 2620:100:6032:1::a27d:5201\n",
            "Connecting to www.dropbox.com (www.dropbox.com)|162.125.82.1|:443... connected.\n",
            "HTTP request sent, awaiting response... 301 Moved Permanently\n",
            "Location: /s/raw/fsxepdka4l2pr45/prachathai-67k.zip [following]\n",
            "--2020-05-22 15:21:28--  https://www.dropbox.com/s/raw/fsxepdka4l2pr45/prachathai-67k.zip\n",
            "Reusing existing connection to www.dropbox.com:443.\n",
            "HTTP request sent, awaiting response... 302 Found\n",
            "Location: https://uca5dff217a0b8d0018089ce3232.dl.dropboxusercontent.com/cd/0/inline/A4PhjtrgeINEwC4YKwa2JkDCzFaJnLu7FlkzyuTlOMkBanQ7hnifV3T_5TuhxY3oPebLAV0T_tcJmlI75hKXkmcGUaN6AjXxH9B1fj8HMzGRyA/file# [following]\n",
            "--2020-05-22 15:21:29--  https://uca5dff217a0b8d0018089ce3232.dl.dropboxusercontent.com/cd/0/inline/A4PhjtrgeINEwC4YKwa2JkDCzFaJnLu7FlkzyuTlOMkBanQ7hnifV3T_5TuhxY3oPebLAV0T_tcJmlI75hKXkmcGUaN6AjXxH9B1fj8HMzGRyA/file\n",
            "Resolving uca5dff217a0b8d0018089ce3232.dl.dropboxusercontent.com (uca5dff217a0b8d0018089ce3232.dl.dropboxusercontent.com)... 162.125.82.6, 2620:100:6032:6::a27d:5206\n",
            "Connecting to uca5dff217a0b8d0018089ce3232.dl.dropboxusercontent.com (uca5dff217a0b8d0018089ce3232.dl.dropboxusercontent.com)|162.125.82.6|:443... connected.\n",
            "HTTP request sent, awaiting response... 302 FOUND\n",
            "Location: /cd/0/inline2/A4PmmYjl-NSjTwfSqMYoJ0trBgP6Yy6ZCw5KySiVcitVly4fkQkUOau2tuODq47LUr2dP838ob2IBQ8CGCocE9sXj3nwlosPo2sZWK0XA7rgBGczBazzaTw4bHdx6Ys251tG7WdTrfVah3BoUfcj5BBZhKQvZ4Bhme1Sr03KQrnqAv0CVS4FDOduAv-NNA7LANAsURBgjeZyCryG3t6CbX6NtFS-cWyYI-NBT5w-wPa1MpdRwHs6aA8gejsdAIRgG8QGXIfGJu0lcAHgmQn9BFA6dVAggyJnAgxkI4en2uja_9WlePDNVWyDpRLztc4YHBb2c-imEM3PUx265DpbV5ZA/file [following]\n",
            "--2020-05-22 15:21:29--  https://uca5dff217a0b8d0018089ce3232.dl.dropboxusercontent.com/cd/0/inline2/A4PmmYjl-NSjTwfSqMYoJ0trBgP6Yy6ZCw5KySiVcitVly4fkQkUOau2tuODq47LUr2dP838ob2IBQ8CGCocE9sXj3nwlosPo2sZWK0XA7rgBGczBazzaTw4bHdx6Ys251tG7WdTrfVah3BoUfcj5BBZhKQvZ4Bhme1Sr03KQrnqAv0CVS4FDOduAv-NNA7LANAsURBgjeZyCryG3t6CbX6NtFS-cWyYI-NBT5w-wPa1MpdRwHs6aA8gejsdAIRgG8QGXIfGJu0lcAHgmQn9BFA6dVAggyJnAgxkI4en2uja_9WlePDNVWyDpRLztc4YHBb2c-imEM3PUx265DpbV5ZA/file\n",
            "Reusing existing connection to uca5dff217a0b8d0018089ce3232.dl.dropboxusercontent.com:443.\n",
            "HTTP request sent, awaiting response... 200 OK\n",
            "Length: 184222452 (176M) [application/zip]\n",
            "Saving to: ‘prachathai-67k.zip’\n",
            "\n",
            "prachathai-67k.zip  100%[===================>] 175.69M  15.7MB/s    in 47s     \n",
            "\n",
            "2020-05-22 15:22:18 (3.70 MB/s) - ‘prachathai-67k.zip’ saved [184222452/184222452]\n",
            "\n",
            "Archive:  prachathai-67k.zip\n",
            "  inflating: prachathai-67k.csv      \n",
            "Collecting tensorflow_text\n",
            "\u001b[?25l  Downloading https://files.pythonhosted.org/packages/78/e7/d260e51d44bea241e8eee39d0266df9b33a3d6219ded118a1c81a872e848/tensorflow_text-2.2.0-cp36-cp36m-manylinux1_x86_64.whl (3.0MB)\n",
            "\u001b[K     |████████████████████████████████| 3.0MB 2.7MB/s \n",
            "\u001b[?25hRequirement already satisfied: tensorflow<2.3,>=2.2.0 in /usr/local/lib/python3.6/dist-packages (from tensorflow_text) (2.2.0)\n",
            "Requirement already satisfied: wheel>=0.26; python_version >= \"3\" in /usr/local/lib/python3.6/dist-packages (from tensorflow<2.3,>=2.2.0->tensorflow_text) (0.34.2)\n",
            "Requirement already satisfied: scipy==1.4.1; python_version >= \"3\" in /usr/local/lib/python3.6/dist-packages (from tensorflow<2.3,>=2.2.0->tensorflow_text) (1.4.1)\n",
            "Requirement already satisfied: six>=1.12.0 in /usr/local/lib/python3.6/dist-packages (from tensorflow<2.3,>=2.2.0->tensorflow_text) (1.12.0)\n",
            "Requirement already satisfied: protobuf>=3.8.0 in /usr/local/lib/python3.6/dist-packages (from tensorflow<2.3,>=2.2.0->tensorflow_text) (3.10.0)\n",
            "Requirement already satisfied: tensorflow-estimator<2.3.0,>=2.2.0 in /usr/local/lib/python3.6/dist-packages (from tensorflow<2.3,>=2.2.0->tensorflow_text) (2.2.0)\n",
            "Requirement already satisfied: termcolor>=1.1.0 in /usr/local/lib/python3.6/dist-packages (from tensorflow<2.3,>=2.2.0->tensorflow_text) (1.1.0)\n",
            "Requirement already satisfied: keras-preprocessing>=1.1.0 in /usr/local/lib/python3.6/dist-packages (from tensorflow<2.3,>=2.2.0->tensorflow_text) (1.1.2)\n",
            "Requirement already satisfied: opt-einsum>=2.3.2 in /usr/local/lib/python3.6/dist-packages (from tensorflow<2.3,>=2.2.0->tensorflow_text) (3.2.1)\n",
            "Requirement already satisfied: gast==0.3.3 in /usr/local/lib/python3.6/dist-packages (from tensorflow<2.3,>=2.2.0->tensorflow_text) (0.3.3)\n",
            "Requirement already satisfied: astunparse==1.6.3 in /usr/local/lib/python3.6/dist-packages (from tensorflow<2.3,>=2.2.0->tensorflow_text) (1.6.3)\n",
            "Requirement already satisfied: google-pasta>=0.1.8 in /usr/local/lib/python3.6/dist-packages (from tensorflow<2.3,>=2.2.0->tensorflow_text) (0.2.0)\n",
            "Requirement already satisfied: h5py<2.11.0,>=2.10.0 in /usr/local/lib/python3.6/dist-packages (from tensorflow<2.3,>=2.2.0->tensorflow_text) (2.10.0)\n",
            "Requirement already satisfied: grpcio>=1.8.6 in /usr/local/lib/python3.6/dist-packages (from tensorflow<2.3,>=2.2.0->tensorflow_text) (1.29.0)\n",
            "Requirement already satisfied: tensorboard<2.3.0,>=2.2.0 in /usr/local/lib/python3.6/dist-packages (from tensorflow<2.3,>=2.2.0->tensorflow_text) (2.2.1)\n",
            "Requirement already satisfied: numpy<2.0,>=1.16.0 in /usr/local/lib/python3.6/dist-packages (from tensorflow<2.3,>=2.2.0->tensorflow_text) (1.18.4)\n",
            "Requirement already satisfied: wrapt>=1.11.1 in /usr/local/lib/python3.6/dist-packages (from tensorflow<2.3,>=2.2.0->tensorflow_text) (1.12.1)\n",
            "Requirement already satisfied: absl-py>=0.7.0 in /usr/local/lib/python3.6/dist-packages (from tensorflow<2.3,>=2.2.0->tensorflow_text) (0.9.0)\n",
            "Requirement already satisfied: setuptools in /usr/local/lib/python3.6/dist-packages (from protobuf>=3.8.0->tensorflow<2.3,>=2.2.0->tensorflow_text) (46.3.0)\n",
            "Requirement already satisfied: markdown>=2.6.8 in /usr/local/lib/python3.6/dist-packages (from tensorboard<2.3.0,>=2.2.0->tensorflow<2.3,>=2.2.0->tensorflow_text) (3.2.2)\n",
            "Requirement already satisfied: google-auth<2,>=1.6.3 in /usr/local/lib/python3.6/dist-packages (from tensorboard<2.3.0,>=2.2.0->tensorflow<2.3,>=2.2.0->tensorflow_text) (1.7.2)\n",
            "Requirement already satisfied: tensorboard-plugin-wit>=1.6.0 in /usr/local/lib/python3.6/dist-packages (from tensorboard<2.3.0,>=2.2.0->tensorflow<2.3,>=2.2.0->tensorflow_text) (1.6.0.post3)\n",
            "Requirement already satisfied: werkzeug>=0.11.15 in /usr/local/lib/python3.6/dist-packages (from tensorboard<2.3.0,>=2.2.0->tensorflow<2.3,>=2.2.0->tensorflow_text) (1.0.1)\n",
            "Requirement already satisfied: google-auth-oauthlib<0.5,>=0.4.1 in /usr/local/lib/python3.6/dist-packages (from tensorboard<2.3.0,>=2.2.0->tensorflow<2.3,>=2.2.0->tensorflow_text) (0.4.1)\n",
            "Requirement already satisfied: requests<3,>=2.21.0 in /usr/local/lib/python3.6/dist-packages (from tensorboard<2.3.0,>=2.2.0->tensorflow<2.3,>=2.2.0->tensorflow_text) (2.23.0)\n",
            "Requirement already satisfied: importlib-metadata; python_version < \"3.8\" in /usr/local/lib/python3.6/dist-packages (from markdown>=2.6.8->tensorboard<2.3.0,>=2.2.0->tensorflow<2.3,>=2.2.0->tensorflow_text) (1.6.0)\n",
            "Requirement already satisfied: cachetools<3.2,>=2.0.0 in /usr/local/lib/python3.6/dist-packages (from google-auth<2,>=1.6.3->tensorboard<2.3.0,>=2.2.0->tensorflow<2.3,>=2.2.0->tensorflow_text) (3.1.1)\n",
            "Requirement already satisfied: pyasn1-modules>=0.2.1 in /usr/local/lib/python3.6/dist-packages (from google-auth<2,>=1.6.3->tensorboard<2.3.0,>=2.2.0->tensorflow<2.3,>=2.2.0->tensorflow_text) (0.2.8)\n",
            "Requirement already satisfied: rsa<4.1,>=3.1.4 in /usr/local/lib/python3.6/dist-packages (from google-auth<2,>=1.6.3->tensorboard<2.3.0,>=2.2.0->tensorflow<2.3,>=2.2.0->tensorflow_text) (4.0)\n",
            "Requirement already satisfied: requests-oauthlib>=0.7.0 in /usr/local/lib/python3.6/dist-packages (from google-auth-oauthlib<0.5,>=0.4.1->tensorboard<2.3.0,>=2.2.0->tensorflow<2.3,>=2.2.0->tensorflow_text) (1.3.0)\n",
            "Requirement already satisfied: certifi>=2017.4.17 in /usr/local/lib/python3.6/dist-packages (from requests<3,>=2.21.0->tensorboard<2.3.0,>=2.2.0->tensorflow<2.3,>=2.2.0->tensorflow_text) (2020.4.5.1)\n",
            "Requirement already satisfied: chardet<4,>=3.0.2 in /usr/local/lib/python3.6/dist-packages (from requests<3,>=2.21.0->tensorboard<2.3.0,>=2.2.0->tensorflow<2.3,>=2.2.0->tensorflow_text) (3.0.4)\n",
            "Requirement already satisfied: urllib3!=1.25.0,!=1.25.1,<1.26,>=1.21.1 in /usr/local/lib/python3.6/dist-packages (from requests<3,>=2.21.0->tensorboard<2.3.0,>=2.2.0->tensorflow<2.3,>=2.2.0->tensorflow_text) (1.24.3)\n",
            "Requirement already satisfied: idna<3,>=2.5 in /usr/local/lib/python3.6/dist-packages (from requests<3,>=2.21.0->tensorboard<2.3.0,>=2.2.0->tensorflow<2.3,>=2.2.0->tensorflow_text) (2.9)\n",
            "Requirement already satisfied: zipp>=0.5 in /usr/local/lib/python3.6/dist-packages (from importlib-metadata; python_version < \"3.8\"->markdown>=2.6.8->tensorboard<2.3.0,>=2.2.0->tensorflow<2.3,>=2.2.0->tensorflow_text) (3.1.0)\n",
            "Requirement already satisfied: pyasn1<0.5.0,>=0.4.6 in /usr/local/lib/python3.6/dist-packages (from pyasn1-modules>=0.2.1->google-auth<2,>=1.6.3->tensorboard<2.3.0,>=2.2.0->tensorflow<2.3,>=2.2.0->tensorflow_text) (0.4.8)\n",
            "Requirement already satisfied: oauthlib>=3.0.0 in /usr/local/lib/python3.6/dist-packages (from requests-oauthlib>=0.7.0->google-auth-oauthlib<0.5,>=0.4.1->tensorboard<2.3.0,>=2.2.0->tensorflow<2.3,>=2.2.0->tensorflow_text) (3.1.0)\n",
            "Installing collected packages: tensorflow-text\n",
            "Successfully installed tensorflow-text-2.2.0\n",
            "Collecting https://github.com/PyThaiNLP/pythainlp/archive/dev.zip\n",
            "\u001b[?25l  Downloading https://github.com/PyThaiNLP/pythainlp/archive/dev.zip\n",
            "\u001b[K     / 22.0MB 157kB/s\n",
            "\u001b[?25hCollecting python-crfsuite>=0.9.6\n",
            "\u001b[?25l  Downloading https://files.pythonhosted.org/packages/95/99/869dde6dbf3e0d07a013c8eebfb0a3d30776334e0097f8432b631a9a3a19/python_crfsuite-0.9.7-cp36-cp36m-manylinux1_x86_64.whl (743kB)\n",
            "\u001b[K     |████████████████████████████████| 747kB 2.8MB/s \n",
            "\u001b[?25hRequirement already satisfied: requests>=2.22.0 in /usr/local/lib/python3.6/dist-packages (from pythainlp==2.2.0.dev1) (2.23.0)\n",
            "Collecting tinydb>=3.0\n",
            "  Downloading https://files.pythonhosted.org/packages/b6/f6/b3e112addc8eb4a097f158124ce8b206767361a381f80c5f0c506d855e4a/tinydb-4.1.1-py3-none-any.whl\n",
            "Requirement already satisfied: tqdm>=4.1 in /usr/local/lib/python3.6/dist-packages (from pythainlp==2.2.0.dev1) (4.41.1)\n",
            "Requirement already satisfied: urllib3!=1.25.0,!=1.25.1,<1.26,>=1.21.1 in /usr/local/lib/python3.6/dist-packages (from requests>=2.22.0->pythainlp==2.2.0.dev1) (1.24.3)\n",
            "Requirement already satisfied: idna<3,>=2.5 in /usr/local/lib/python3.6/dist-packages (from requests>=2.22.0->pythainlp==2.2.0.dev1) (2.9)\n",
            "Requirement already satisfied: certifi>=2017.4.17 in /usr/local/lib/python3.6/dist-packages (from requests>=2.22.0->pythainlp==2.2.0.dev1) (2020.4.5.1)\n",
            "Requirement already satisfied: chardet<4,>=3.0.2 in /usr/local/lib/python3.6/dist-packages (from requests>=2.22.0->pythainlp==2.2.0.dev1) (3.0.4)\n",
            "Building wheels for collected packages: pythainlp\n",
            "  Building wheel for pythainlp (setup.py) ... \u001b[?25l\u001b[?25hdone\n",
            "  Created wheel for pythainlp: filename=pythainlp-2.2.0.dev1-cp36-none-any.whl size=13151750 sha256=f63c342414ec27e89eed8c2d53442e19eac4c6358f021eb0951d0483572bf9b8\n",
            "  Stored in directory: /tmp/pip-ephem-wheel-cache-t0n_c6vn/wheels/79/4e/1e/26f3198c6712ecfbee92928ed1dde923a078da3d222401cc78\n",
            "Successfully built pythainlp\n",
            "Installing collected packages: python-crfsuite, tinydb, pythainlp\n",
            "Successfully installed pythainlp-2.2.0.dev1 python-crfsuite-0.9.7 tinydb-4.1.1\n",
            "Collecting iterative-stratification\n",
            "  Downloading https://files.pythonhosted.org/packages/9d/79/9ba64c8c07b07b8b45d80725b2ebd7b7884701c1da34f70d4749f7b45f9a/iterative_stratification-0.1.6-py3-none-any.whl\n",
            "Requirement already satisfied: scipy in /usr/local/lib/python3.6/dist-packages (from iterative-stratification) (1.4.1)\n",
            "Requirement already satisfied: numpy in /usr/local/lib/python3.6/dist-packages (from iterative-stratification) (1.18.4)\n",
            "Requirement already satisfied: scikit-learn in /usr/local/lib/python3.6/dist-packages (from iterative-stratification) (0.22.2.post1)\n",
            "Requirement already satisfied: joblib>=0.11 in /usr/local/lib/python3.6/dist-packages (from scikit-learn->iterative-stratification) (0.15.1)\n",
            "Installing collected packages: iterative-stratification\n",
            "Successfully installed iterative-stratification-0.1.6\n",
            "class_features.py     prachathai-67k-master  thsarabunnew-webfont.ttf\n",
            "classification.ipynb  prachathai-67k.zip     train_cls.py\n",
            "exploration.ipynb     pythainlp\t\t     train_lm.py\n",
            "LICENSE\t\t      README.md\t\t     train_valid_idx.pkl\n",
            "master.zip\t      sample_data\n",
            "prachathai-67k.csv    test_idx.pkl\n"
          ],
          "name": "stdout"
        }
      ]
    },
    {
      "cell_type": "code",
      "metadata": {
        "id": "qR2_g_7X3kKy",
        "colab_type": "code",
        "colab": {}
      },
      "source": [
        "import pandas as pd\n",
        "import numpy as np\n",
        "from pythainlp import word_tokenize\n",
        "from ast import literal_eval\n",
        "from tqdm import tqdm_notebook\n",
        "from collections import Counter\n",
        "import re\n",
        "\n",
        "#viz\n",
        "from plotnine import *\n",
        "import matplotlib.pyplot as plt\n",
        "import seaborn as sns\n",
        "\n",
        "benchmark_labels = ['การเมือง','สิทธิมนุษยชน','คุณภาพชีวิต','ต่างประเทศ','สังคม',\n",
        "                  'สิ่งแวดล้อม','เศรษฐกิจ','วัฒนธรรม','แรงงาน','ความมั่นคง','ไอซีที','การศึกษา']\n",
        "\n",
        "def replace_newline(t):\n",
        "    return re.sub('[\\n]{1,}', ' ', t)\n",
        "\n",
        "ft_data = 'ft_data/'"
      ],
      "execution_count": 0,
      "outputs": []
    },
    {
      "cell_type": "code",
      "metadata": {
        "id": "EMseeqC-3kK3",
        "colab_type": "code",
        "colab": {
          "base_uri": "https://localhost:8080/",
          "height": 306
        },
        "outputId": "8100e2ed-45f1-4a11-eeca-a0508f3a0687"
      },
      "source": [
        "prachathai = pd.read_csv('prachathai-67k.csv')\n",
        "print(prachathai.shape)\n",
        "prachathai.head()"
      ],
      "execution_count": 3,
      "outputs": [
        {
          "output_type": "stream",
          "text": [
            "(67889, 5)\n"
          ],
          "name": "stdout"
        },
        {
          "output_type": "execute_result",
          "data": {
            "text/html": [
              "<div>\n",
              "<style scoped>\n",
              "    .dataframe tbody tr th:only-of-type {\n",
              "        vertical-align: middle;\n",
              "    }\n",
              "\n",
              "    .dataframe tbody tr th {\n",
              "        vertical-align: top;\n",
              "    }\n",
              "\n",
              "    .dataframe thead th {\n",
              "        text-align: right;\n",
              "    }\n",
              "</style>\n",
              "<table border=\"1\" class=\"dataframe\">\n",
              "  <thead>\n",
              "    <tr style=\"text-align: right;\">\n",
              "      <th></th>\n",
              "      <th>url</th>\n",
              "      <th>date</th>\n",
              "      <th>title</th>\n",
              "      <th>body_text</th>\n",
              "      <th>labels</th>\n",
              "    </tr>\n",
              "  </thead>\n",
              "  <tbody>\n",
              "    <tr>\n",
              "      <th>0</th>\n",
              "      <td>https://prachatai.com/print/42</td>\n",
              "      <td>2004-08-24 14:31</td>\n",
              "      <td>นักวิจัยหนุน  \"แม้ว\"  เปิด  \"จีเอ็มโอ\"</td>\n",
              "      <td>ประชาไท --- 23 ส.ค.2547  นักวิจัยฯ ชี้นโยบายจี...</td>\n",
              "      <td>['ข่าว', 'สิ่งแวดล้อม']</td>\n",
              "    </tr>\n",
              "    <tr>\n",
              "      <th>1</th>\n",
              "      <td>https://prachatai.com/print/41</td>\n",
              "      <td>2004-08-24 14:22</td>\n",
              "      <td>ภาคประชาชนต้านเปิดเสรีจีเอ็มโอ</td>\n",
              "      <td>ประชาไท- 23 ส.ค.2547   นักวิชาการ ภาคประชาชน จ...</td>\n",
              "      <td>['ข่าว', 'สิ่งแวดล้อม']</td>\n",
              "    </tr>\n",
              "    <tr>\n",
              "      <th>2</th>\n",
              "      <td>https://prachatai.com/print/43</td>\n",
              "      <td>2004-08-24 15:17</td>\n",
              "      <td>จุฬาฯ ห่วงจีเอ็มโอลามข้าวไทย</td>\n",
              "      <td>นโยบายที่อนุญาตให้ปลูกร่วมกับพืชอื่นได้นั้นถื...</td>\n",
              "      <td>['ข่าว', 'สิ่งแวดล้อม']</td>\n",
              "    </tr>\n",
              "    <tr>\n",
              "      <th>3</th>\n",
              "      <td>https://prachatai.com/print/45</td>\n",
              "      <td>2004-08-24 15:58</td>\n",
              "      <td>ฟองสบู่การเมืองแตก ทักษิณหมดกึ๋น ชนชั้นกลางหมด...</td>\n",
              "      <td>ประชาไท -- 23 ส.ค. 47  ขาประจำทักษิณ ฟันธง ฟอง...</td>\n",
              "      <td>['ข่าว', 'การเมือง', 'คณะเศรษฐศาสตร์ มหาวิทยาล...</td>\n",
              "    </tr>\n",
              "    <tr>\n",
              "      <th>4</th>\n",
              "      <td>https://prachatai.com/print/47</td>\n",
              "      <td>2004-08-24 16:10</td>\n",
              "      <td>กอต.เสนอเลิกถนนคลองลาน-อุ้มผาง</td>\n",
              "      <td>ประชาไท-23 ส.ค.47  คณะกรรมการอนุรักษ์ ผืนป่าตะ...</td>\n",
              "      <td>['ข่าว', 'สิ่งแวดล้อม']</td>\n",
              "    </tr>\n",
              "  </tbody>\n",
              "</table>\n",
              "</div>"
            ],
            "text/plain": [
              "                              url  ...                                             labels\n",
              "0  https://prachatai.com/print/42  ...                            ['ข่าว', 'สิ่งแวดล้อม']\n",
              "1  https://prachatai.com/print/41  ...                            ['ข่าว', 'สิ่งแวดล้อม']\n",
              "2  https://prachatai.com/print/43  ...                            ['ข่าว', 'สิ่งแวดล้อม']\n",
              "3  https://prachatai.com/print/45  ...  ['ข่าว', 'การเมือง', 'คณะเศรษฐศาสตร์ มหาวิทยาล...\n",
              "4  https://prachatai.com/print/47  ...                            ['ข่าว', 'สิ่งแวดล้อม']\n",
              "\n",
              "[5 rows x 5 columns]"
            ]
          },
          "metadata": {
            "tags": []
          },
          "execution_count": 3
        }
      ]
    },
    {
      "cell_type": "markdown",
      "metadata": {
        "id": "0JEtywA33kK7",
        "colab_type": "text"
      },
      "source": [
        "## Train-validation-test Split"
      ]
    },
    {
      "cell_type": "markdown",
      "metadata": {
        "id": "RSIGfcTf3kK8",
        "colab_type": "text"
      },
      "source": [
        "We perform 70/10/20 train-validation-test split. The train-validation vs test split is done randomly and the train vs validation split is done using `MultilabelStratifiedShuffleSplit` as implemented by [iterative-stratification](https://github.com/trent-b/iterative-stratification). We will use the test set for classification benchmark."
      ]
    },
    {
      "cell_type": "code",
      "metadata": {
        "id": "XpsGCP6-3kK-",
        "colab_type": "code",
        "colab": {}
      },
      "source": [
        "all_df = prachathai[['body_text', 'labels']].copy()\n",
        "all_df.head()\n",
        "\n",
        "#use only benchmark labels\n",
        "for lab in benchmark_labels:\n",
        "    all_df[lab] = all_df.labels.map(lambda x: 1 if lab in x else 0)\n",
        "all_df.drop('labels',axis=1,inplace=True)"
      ],
      "execution_count": 0,
      "outputs": []
    },
    {
      "cell_type": "code",
      "metadata": {
        "id": "lpz9rKgj3kLB",
        "colab_type": "code",
        "colab": {
          "base_uri": "https://localhost:8080/",
          "height": 204
        },
        "outputId": "a5a30bb6-9b8d-4b70-99bc-7a158b2f8735"
      },
      "source": [
        "all_df.head()"
      ],
      "execution_count": 5,
      "outputs": [
        {
          "output_type": "execute_result",
          "data": {
            "text/html": [
              "<div>\n",
              "<style scoped>\n",
              "    .dataframe tbody tr th:only-of-type {\n",
              "        vertical-align: middle;\n",
              "    }\n",
              "\n",
              "    .dataframe tbody tr th {\n",
              "        vertical-align: top;\n",
              "    }\n",
              "\n",
              "    .dataframe thead th {\n",
              "        text-align: right;\n",
              "    }\n",
              "</style>\n",
              "<table border=\"1\" class=\"dataframe\">\n",
              "  <thead>\n",
              "    <tr style=\"text-align: right;\">\n",
              "      <th></th>\n",
              "      <th>body_text</th>\n",
              "      <th>การเมือง</th>\n",
              "      <th>สิทธิมนุษยชน</th>\n",
              "      <th>คุณภาพชีวิต</th>\n",
              "      <th>ต่างประเทศ</th>\n",
              "      <th>สังคม</th>\n",
              "      <th>สิ่งแวดล้อม</th>\n",
              "      <th>เศรษฐกิจ</th>\n",
              "      <th>วัฒนธรรม</th>\n",
              "      <th>แรงงาน</th>\n",
              "      <th>ความมั่นคง</th>\n",
              "      <th>ไอซีที</th>\n",
              "      <th>การศึกษา</th>\n",
              "    </tr>\n",
              "  </thead>\n",
              "  <tbody>\n",
              "    <tr>\n",
              "      <th>0</th>\n",
              "      <td>ประชาไท --- 23 ส.ค.2547  นักวิจัยฯ ชี้นโยบายจี...</td>\n",
              "      <td>0</td>\n",
              "      <td>0</td>\n",
              "      <td>0</td>\n",
              "      <td>0</td>\n",
              "      <td>0</td>\n",
              "      <td>1</td>\n",
              "      <td>0</td>\n",
              "      <td>0</td>\n",
              "      <td>0</td>\n",
              "      <td>0</td>\n",
              "      <td>0</td>\n",
              "      <td>0</td>\n",
              "    </tr>\n",
              "    <tr>\n",
              "      <th>1</th>\n",
              "      <td>ประชาไท- 23 ส.ค.2547   นักวิชาการ ภาคประชาชน จ...</td>\n",
              "      <td>0</td>\n",
              "      <td>0</td>\n",
              "      <td>0</td>\n",
              "      <td>0</td>\n",
              "      <td>0</td>\n",
              "      <td>1</td>\n",
              "      <td>0</td>\n",
              "      <td>0</td>\n",
              "      <td>0</td>\n",
              "      <td>0</td>\n",
              "      <td>0</td>\n",
              "      <td>0</td>\n",
              "    </tr>\n",
              "    <tr>\n",
              "      <th>2</th>\n",
              "      <td>นโยบายที่อนุญาตให้ปลูกร่วมกับพืชอื่นได้นั้นถื...</td>\n",
              "      <td>0</td>\n",
              "      <td>0</td>\n",
              "      <td>0</td>\n",
              "      <td>0</td>\n",
              "      <td>0</td>\n",
              "      <td>1</td>\n",
              "      <td>0</td>\n",
              "      <td>0</td>\n",
              "      <td>0</td>\n",
              "      <td>0</td>\n",
              "      <td>0</td>\n",
              "      <td>0</td>\n",
              "    </tr>\n",
              "    <tr>\n",
              "      <th>3</th>\n",
              "      <td>ประชาไท -- 23 ส.ค. 47  ขาประจำทักษิณ ฟันธง ฟอง...</td>\n",
              "      <td>1</td>\n",
              "      <td>0</td>\n",
              "      <td>0</td>\n",
              "      <td>0</td>\n",
              "      <td>0</td>\n",
              "      <td>0</td>\n",
              "      <td>0</td>\n",
              "      <td>0</td>\n",
              "      <td>0</td>\n",
              "      <td>0</td>\n",
              "      <td>0</td>\n",
              "      <td>0</td>\n",
              "    </tr>\n",
              "    <tr>\n",
              "      <th>4</th>\n",
              "      <td>ประชาไท-23 ส.ค.47  คณะกรรมการอนุรักษ์ ผืนป่าตะ...</td>\n",
              "      <td>0</td>\n",
              "      <td>0</td>\n",
              "      <td>0</td>\n",
              "      <td>0</td>\n",
              "      <td>0</td>\n",
              "      <td>1</td>\n",
              "      <td>0</td>\n",
              "      <td>0</td>\n",
              "      <td>0</td>\n",
              "      <td>0</td>\n",
              "      <td>0</td>\n",
              "      <td>0</td>\n",
              "    </tr>\n",
              "  </tbody>\n",
              "</table>\n",
              "</div>"
            ],
            "text/plain": [
              "                                           body_text  ...  การศึกษา\n",
              "0  ประชาไท --- 23 ส.ค.2547  นักวิจัยฯ ชี้นโยบายจี...  ...         0\n",
              "1  ประชาไท- 23 ส.ค.2547   นักวิชาการ ภาคประชาชน จ...  ...         0\n",
              "2   นโยบายที่อนุญาตให้ปลูกร่วมกับพืชอื่นได้นั้นถื...  ...         0\n",
              "3  ประชาไท -- 23 ส.ค. 47  ขาประจำทักษิณ ฟันธง ฟอง...  ...         0\n",
              "4  ประชาไท-23 ส.ค.47  คณะกรรมการอนุรักษ์ ผืนป่าตะ...  ...         0\n",
              "\n",
              "[5 rows x 13 columns]"
            ]
          },
          "metadata": {
            "tags": []
          },
          "execution_count": 5
        }
      ]
    },
    {
      "cell_type": "code",
      "metadata": {
        "id": "g1GKJFKd3kLE",
        "colab_type": "code",
        "colab": {
          "base_uri": "https://localhost:8080/",
          "height": 51
        },
        "outputId": "de833ada-1728-4a70-801c-69f1efdda02c"
      },
      "source": [
        "#randomly create test set\n",
        "idx = np.arange(all_df.shape[0])\n",
        "np.random.seed(1412)\n",
        "np.random.shuffle(idx)\n",
        "train_valid_idx, test_idx = idx[:int(all_df.shape[0] * 0.8)], idx[int(all_df.shape[0] * 0.8):]\n",
        "print(len(train_valid_idx),len(test_idx))\n",
        "\n",
        "#save test_df\n",
        "test_df = all_df.iloc[test_idx,:]\n",
        "print(test_df.shape)\n",
        "test_df.to_csv('test_df.csv',index=False)"
      ],
      "execution_count": 6,
      "outputs": [
        {
          "output_type": "stream",
          "text": [
            "54311 13578\n",
            "(13578, 13)\n"
          ],
          "name": "stdout"
        }
      ]
    },
    {
      "cell_type": "code",
      "metadata": {
        "id": "LrmMo_vB3kLG",
        "colab_type": "code",
        "colab": {
          "base_uri": "https://localhost:8080/",
          "height": 68
        },
        "outputId": "6b609405-055f-4386-86e5-b88756d876dc"
      },
      "source": [
        "#stratified shuffle split for validation set\n",
        "from iterstrat.ml_stratifiers import MultilabelStratifiedShuffleSplit\n",
        "\n",
        "train_valid_df = all_df.iloc[train_valid_idx,:]\n",
        "ohe_df = train_valid_df.iloc[:,1:]\n",
        "msss = MultilabelStratifiedShuffleSplit(n_splits=1, test_size=0.125, random_state=1412)\n",
        "train_idx, valid_idx = next(msss.split(ohe_df,ohe_df))\n",
        "print(len(train_idx),len(valid_idx))\n",
        "\n",
        "#save train and valid_df\n",
        "train_df = train_valid_df.iloc[train_idx,:]\n",
        "print(train_df.shape)\n",
        "train_df.to_csv('train_df.csv',index=False)\n",
        "\n",
        "valid_df = all_df.iloc[valid_idx,:]\n",
        "print(valid_df.shape)\n",
        "valid_df.to_csv('valid_df.csv',index=False)"
      ],
      "execution_count": 7,
      "outputs": [
        {
          "output_type": "stream",
          "text": [
            "47522 6789\n",
            "(47522, 13)\n",
            "(6789, 13)\n"
          ],
          "name": "stdout"
        }
      ]
    },
    {
      "cell_type": "code",
      "metadata": {
        "id": "ysVMG8Xk3kLK",
        "colab_type": "code",
        "colab": {}
      },
      "source": [
        "#save train_valid_idx, test_idx for reproducibility\n",
        "import pickle\n",
        "pickle.dump(train_valid_idx,open('train_valid_idx.pkl','wb'))\n",
        "pickle.dump(test_idx,open('test_idx.pkl','wb'))"
      ],
      "execution_count": 0,
      "outputs": []
    },
    {
      "cell_type": "code",
      "metadata": {
        "id": "lTRpUtNa3kLM",
        "colab_type": "code",
        "colab": {
          "base_uri": "https://localhost:8080/",
          "height": 238
        },
        "outputId": "06d08ace-0fd5-4d73-bc90-b0b443318d17"
      },
      "source": [
        "#test set prevalence\n",
        "test_df.iloc[:,1:].mean(0)"
      ],
      "execution_count": 9,
      "outputs": [
        {
          "output_type": "execute_result",
          "data": {
            "text/plain": [
              "การเมือง        0.580351\n",
              "สิทธิมนุษยชน    0.227206\n",
              "คุณภาพชีวิต     0.167624\n",
              "ต่างประเทศ      0.124687\n",
              "สังคม           0.130873\n",
              "สิ่งแวดล้อม     0.119311\n",
              "เศรษฐกิจ        0.077036\n",
              "วัฒนธรรม        0.063632\n",
              "แรงงาน          0.056857\n",
              "ความมั่นคง      0.055752\n",
              "ไอซีที          0.042201\n",
              "การศึกษา        0.038592\n",
              "dtype: float64"
            ]
          },
          "metadata": {
            "tags": []
          },
          "execution_count": 9
        }
      ]
    },
    {
      "cell_type": "markdown",
      "metadata": {
        "id": "MV8EBeVa3kLO",
        "colab_type": "text"
      },
      "source": [
        "## [fastText](https://github.com/facebookresearch/fastText) Model"
      ]
    },
    {
      "cell_type": "markdown",
      "metadata": {
        "id": "3Amnj32G3kLP",
        "colab_type": "text"
      },
      "source": [
        "We used embeddings pretrained on [Thai Wikipedia Dump](https://github.com/facebookresearch/fastText/blob/master/docs/pretrained-vectors.md) and finetuned them using all of `prachathai-67k` using skipgram model. After that, we do 12 binary classifications and compute macro-average of performance metrics.\n",
        "\n",
        "| topic         | prevalence | accuracy | f1     | precision | recall |\n",
        "|---------------|------------|----------|--------|-----------|--------|\n",
        "| การเมือง       | 0.5796     | 0.8474   | 0.8731 | 0.8427    | 0.9058 |\n",
        "| สิทธิมนุษยชน     | 0.2235     | 0.8846   | 0.7018 | 0.8299    | 0.6080 |\n",
        "| คุณภาพชีวิต      | 0.1693     | 0.8976   | 0.6412 | 0.7887    | 0.5402 |\n",
        "| ต่างประเทศ     | 0.1233     | 0.9523   | 0.7883 | 0.8713    | 0.7197 |\n",
        "| สังคม          | 0.1305     | 0.8833   | 0.2933 | 0.7003    | 0.1855 |\n",
        "| สิ่งแวดล้อม      | 0.1175     | 0.9469   | 0.7330 | 0.8967    | 0.6199 |\n",
        "| เศรษฐกิจ       | 0.0759     | 0.9394   | 0.4436 | 0.7321    | 0.3182 |\n",
        "| วัฒนธรรม       | 0.0633     | 0.9473   | 0.3569 | 0.7822    | 0.2312 |\n",
        "| แรงงาน        | 0.0564     | 0.9726   | 0.7060 | 0.8933    | 0.5836 |\n",
        "| ความมั่นคง      | 0.0563     | 0.9546   | 0.3990 | 0.7832    | 0.2677 |\n",
        "| ไอซีที          | 0.0415     | 0.9728   | 0.5745 | 0.8184    | 0.4426 |\n",
        "| การศึกษา       | 0.0375     | 0.9631   | 0.1237 | 0.5699    | 0.0694 |\n",
        "| macro_average | 0.1396     | 0.9302   | 0.5529 | 0.7924    | 0.4576 |"
      ]
    },
    {
      "cell_type": "code",
      "metadata": {
        "id": "iXLov4c53kLP",
        "colab_type": "code",
        "colab": {}
      },
      "source": [
        "train_df = pd.read_csv('train_df.csv')\n",
        "valid_df = pd.read_csv('valid_df.csv')\n",
        "test_df = pd.read_csv('test_df.csv')"
      ],
      "execution_count": 0,
      "outputs": []
    },
    {
      "cell_type": "code",
      "metadata": {
        "id": "Tz8P7UUw3kLS",
        "colab_type": "code",
        "colab": {}
      },
      "source": [
        "df_txts = ['train','valid','test']\n",
        "dfs = [train_df,valid_df,test_df]\n",
        "\n",
        "for i in range(3):\n",
        "    df = dfs[i]\n",
        "    for lab in tqdm_notebook(benchmark_labels):\n",
        "        ft_lines = []\n",
        "        for _,row in df.iterrows():\n",
        "            ft_lab = f'__label__{row[lab]}'\n",
        "            ft_text = replace_newline(f'{row[\"body_text\"]}')\n",
        "            ft_line = f'{ft_lab} {ft_text}'\n",
        "            ft_lines.append(ft_line)\n",
        "\n",
        "        doc = '\\n'.join(ft_lines)\n",
        "        with open(f'{ft_data}{df_txts[i]}_{lab}.txt','w') as f:\n",
        "            f.write(doc)\n",
        "        f.close()"
      ],
      "execution_count": 0,
      "outputs": []
    },
    {
      "cell_type": "code",
      "metadata": {
        "id": "wqZJ7NbP3kLV",
        "colab_type": "code",
        "colab": {}
      },
      "source": [
        "#for fasttext embedding finetuning\n",
        "ft_lines = []\n",
        "for _,row in all_df.iterrows():\n",
        "    ft_lab = '__label__0'\n",
        "    ft_text = replace_newline(f'{row[\"body_text\"]}')\n",
        "    ft_line = f'{ft_lab} {ft_text}'\n",
        "    ft_lines.append(ft_line)\n",
        "\n",
        "doc = '\\n'.join(ft_lines)\n",
        "with open(f'{ft_data}df_all.txt','w') as f:\n",
        "    f.write(doc)\n",
        "f.close()"
      ],
      "execution_count": 0,
      "outputs": []
    },
    {
      "cell_type": "code",
      "metadata": {
        "id": "K631PEDV3kLY",
        "colab_type": "code",
        "colab": {},
        "outputId": "d2156200-8a26-4751-d560-716fe140d91d"
      },
      "source": [
        "#finetune with all data\n",
        "!/home/ubuntu/fastText/fasttext skipgram \\\n",
        "-pretrainedVectors 'model/wiki.th.vec' -dim 300 \\\n",
        "-input ft_data/df_all.txt -output 'model/finetuned'"
      ],
      "execution_count": 0,
      "outputs": [
        {
          "output_type": "stream",
          "text": [
            "Read 16M words\n",
            "Number of words:  161169\n",
            "Number of labels: 1\n",
            "Progress: 100.0% words/sec/thread:    8476 lr:  0.000000 loss:  1.250565 ETA:   0h 0m\n"
          ],
          "name": "stdout"
        }
      ]
    },
    {
      "cell_type": "code",
      "metadata": {
        "id": "wP-6ZHzT3kLb",
        "colab_type": "code",
        "colab": {},
        "outputId": "21669f50-5d29-4d72-b605-371c196c5b7c"
      },
      "source": [
        "#train classifier\n",
        "!/home/ubuntu/fastText/fasttext supervised \\\n",
        "-input 'ft_data/train_การศึกษา.txt' -output 'model/การศึกษา' \\\n",
        "-pretrainedVectors 'model/finetuned.vec' -epoch 5 -dim 300 -wordNgrams 2 "
      ],
      "execution_count": 0,
      "outputs": [
        {
          "output_type": "stream",
          "text": [
            "Read 11M words\n",
            "Number of words:  5773818\n",
            "Number of labels: 2\n",
            "Progress: 100.0% words/sec/thread:  276088 lr:  0.000000 loss:  0.027403 ETA:   0h 0m\n",
            "^C\n"
          ],
          "name": "stdout"
        }
      ]
    },
    {
      "cell_type": "code",
      "metadata": {
        "id": "g4-Gka0s3kLd",
        "colab_type": "code",
        "colab": {}
      },
      "source": [
        "#get prediction\n",
        "preds = !/home/ubuntu/fastText/fasttext predict 'model/การศึกษา.bin' 'ft_data/test_การศึกษา.txt'"
      ],
      "execution_count": 0,
      "outputs": []
    },
    {
      "cell_type": "code",
      "metadata": {
        "id": "GbiqBToV3kLf",
        "colab_type": "code",
        "colab": {},
        "outputId": "9069792c-2003-400f-ab92-7d7aaa6b95fa"
      },
      "source": [
        "#calculate score\n",
        "lab = 'การศึกษา'\n",
        "pred_num = [int(i[-1]) for i in preds]\n",
        "\n",
        "from sklearn.metrics import f1_score, precision_score, recall_score\n",
        "(pred_num == test_df[lab]).mean(), \\\n",
        "f1_score(test_df[lab],pred_num), \\\n",
        "precision_score(test_df[lab],pred_num), \\\n",
        "recall_score(test_df[lab],pred_num)"
      ],
      "execution_count": 0,
      "outputs": [
        {
          "output_type": "execute_result",
          "data": {
            "text/plain": [
              "(0.9631266264054598,\n",
              " 0.12368728121353562,\n",
              " 0.5698924731182796,\n",
              " 0.0693717277486911)"
            ]
          },
          "metadata": {
            "tags": []
          },
          "execution_count": 42
        }
      ]
    },
    {
      "cell_type": "markdown",
      "metadata": {
        "id": "X3_IQO0V3kLi",
        "colab_type": "text"
      },
      "source": [
        "## LinearSVC Model"
      ]
    },
    {
      "cell_type": "markdown",
      "metadata": {
        "id": "mbwOE2lz3kLi",
        "colab_type": "text"
      },
      "source": [
        "| target        | prevalence | accuracy | f1       | precision | recall   |\n",
        "|---------------|------------|----------|----------|-----------|----------|\n",
        "| การเมือง       | 0.5796     | 0.579663 | 0.000234 | 0.000117  | 1        |\n",
        "| สิทธิมนุษยชน     | 0.2235     | 0.579663 | 0.733891 | 1         | 0.579643 |\n",
        "| คุณภาพชีวิต      | 0.1693     | 0.77655  | 0.874223 | 1         | 0.77655  |\n",
        "| ต่างประเทศ     | 0.1233     | 0.22345  | 0.365278 | 1         | 0.22345  |\n",
        "| สังคม          | 0.1305     | 0.830657 | 0.907496 | 1         | 0.830657 |\n",
        "| สิ่งแวดล้อม      | 0.1175     | 0.169343 | 0.289637 | 1         | 0.169343 |\n",
        "| เศรษฐกิจ       | 0.0759     | 0.876663 | 0.934279 | 1         | 0.876663 |\n",
        "| วัฒนธรรม       | 0.0633     | 0.123337 | 0.21959  | 1         | 0.123337 |\n",
        "| แรงงาน        | 0.0564     | 0.869495 | 0.930192 | 1         | 0.869495 |\n",
        "| ความมั่นคง      | 0.0563     | 0.130505 | 0.230879 | 1         | 0.130505 |\n",
        "| ไอซีที          | 0.0415     | 0.882457 | 0.937559 | 1         | 0.882457 |\n",
        "| การศึกษา       | 0.0375     | 0.117543 | 0.21036  | 1         | 0.117543 |\n",
        "| macro_average | 0.1396     | 0.513277 | 0.552801 | 0.916676  | 0.548304 |"
      ]
    },
    {
      "cell_type": "code",
      "metadata": {
        "id": "pKapYjGz3kLj",
        "colab_type": "code",
        "colab": {}
      },
      "source": [
        "X_train, y_train = train_df['body_text'], train_df.iloc[:,1:]\n",
        "X_test, y_test = test_df['body_text'], test_df.iloc[:,1:]"
      ],
      "execution_count": 0,
      "outputs": []
    },
    {
      "cell_type": "code",
      "metadata": {
        "id": "qTDmVnJ63kLl",
        "colab_type": "code",
        "colab": {}
      },
      "source": [
        "import string\n",
        "import emoji\n",
        "def replace_url(text):\n",
        "    URL_PATTERN = r\"\"\"(?i)\\b((?:https?:(?:/{1,3}|[a-z0-9%])|[a-z0-9.\\-]+[.](?:com|net|org|edu|gov|mil|aero|asia|biz|cat|coop|info|int|jobs|mobi|museum|name|post|pro|tel|travel|xxx|ac|ad|ae|af|ag|ai|al|am|an|ao|aq|ar|as|at|au|aw|ax|az|ba|bb|bd|be|bf|bg|bh|bi|bj|bm|bn|bo|br|bs|bt|bv|bw|by|bz|ca|cc|cd|cf|cg|ch|ci|ck|cl|cm|cn|co|cr|cs|cu|cv|cx|cy|cz|dd|de|dj|dk|dm|do|dz|ec|ee|eg|eh|er|es|et|eu|fi|fj|fk|fm|fo|fr|ga|gb|gd|ge|gf|gg|gh|gi|gl|gm|gn|gp|gq|gr|gs|gt|gu|gw|gy|hk|hm|hn|hr|ht|hu|id|ie|il|im|in|io|iq|ir|is|it|je|jm|jo|jp|ke|kg|kh|ki|km|kn|kp|kr|kw|ky|kz|la|lb|lc|li|lk|lr|ls|lt|lu|lv|ly|ma|mc|md|me|mg|mh|mk|ml|mm|mn|mo|mp|mq|mr|ms|mt|mu|mv|mw|mx|my|mz|na|nc|ne|nf|ng|ni|nl|no|np|nr|nu|nz|om|pa|pe|pf|pg|ph|pk|pl|pm|pn|pr|ps|pt|pw|py|qa|re|ro|rs|ru|rw|sa|sb|sc|sd|se|sg|sh|si|sj|Ja|sk|sl|sm|sn|so|sr|ss|st|su|sv|sx|sy|sz|tc|td|tf|tg|th|tj|tk|tl|tm|tn|to|tp|tr|tt|tv|tw|tz|ua|ug|uk|us|uy|uz|va|vc|ve|vg|vi|vn|vu|wf|ws|ye|yt|yu|za|zm|zw)/)(?:[^\\s()<>{}\\[\\]]+|\\([^\\s()]*?\\([^\\s()]+\\)[^\\s()]*?\\)|\\([^\\s]+?\\))+(?:\\([^\\s()]*?\\([^\\s()]+\\)[^\\s()]*?\\)|\\([^\\s]+?\\)|[^\\s`!()\\[\\]{};:'\".,<>?«»“”‘’])|(?:(?<!@)[a-z0-9]+(?:[.\\-][a-z0-9]+)*[.](?:com|net|org|edu|gov|mil|aero|asia|biz|cat|coop|info|int|jobs|mobi|museum|name|post|pro|tel|travel|xxx|ac|ad|ae|af|ag|ai|al|am|an|ao|aq|ar|as|at|au|aw|ax|az|ba|bb|bd|be|bf|bg|bh|bi|bj|bm|bn|bo|br|bs|bt|bv|bw|by|bz|ca|cc|cd|cf|cg|ch|ci|ck|cl|cm|cn|co|cr|cs|cu|cv|cx|cy|cz|dd|de|dj|dk|dm|do|dz|ec|ee|eg|eh|er|es|et|eu|fi|fj|fk|fm|fo|fr|ga|gb|gd|ge|gf|gg|gh|gi|gl|gm|gn|gp|gq|gr|gs|gt|gu|gw|gy|hk|hm|hn|hr|ht|hu|id|ie|il|im|in|io|iq|ir|is|it|je|jm|jo|jp|ke|kg|kh|ki|km|kn|kp|kr|kw|ky|kz|la|lb|lc|li|lk|lr|ls|lt|lu|lv|ly|ma|mc|md|me|mg|mh|mk|ml|mm|mn|mo|mp|mq|mr|ms|mt|mu|mv|mw|mx|my|mz|na|nc|ne|nf|ng|ni|nl|no|np|nr|nu|nz|om|pa|pe|pf|pg|ph|pk|pl|pm|pn|pr|ps|pt|pw|py|qa|re|ro|rs|ru|rw|sa|sb|sc|sd|se|sg|sh|si|sj|Ja|sk|sl|sm|sn|so|sr|ss|st|su|sv|sx|sy|sz|tc|td|tf|tg|th|tj|tk|tl|tm|tn|to|tp|tr|tt|tv|tw|tz|ua|ug|uk|us|uy|uz|va|vc|ve|vg|vi|vn|vu|wf|ws|ye|yt|yu|za|zm|zw)\\b/?(?!@)))\"\"\"\n",
        "    return re.sub(URL_PATTERN, 'xxurl', text)\n",
        "\n",
        "def replace_rep(text):\n",
        "    def _replace_rep(m):\n",
        "        c,cc = m.groups()\n",
        "        return f'{c}xxrep'\n",
        "    re_rep = re.compile(r'(\\S)(\\1{2,})')\n",
        "    return re_rep.sub(_replace_rep, text)\n",
        "\n",
        "def ungroup_emoji(toks):\n",
        "    res = []\n",
        "    for tok in toks:\n",
        "        if emoji.emoji_count(tok) == len(tok):\n",
        "            for char in tok:\n",
        "                res.append(char)\n",
        "        else:\n",
        "            res.append(tok)\n",
        "    return res\n",
        "\n",
        "def process_text(text):\n",
        "    #pre rules\n",
        "    res = text.lower().strip()\n",
        "    res = replace_url(res)\n",
        "    res = replace_rep(res)\n",
        "    \n",
        "    #tokenize\n",
        "    res = [word for word in res.split('|') if word and not re.search(pattern=r\"\\s+\", string=word)]\n",
        "    \n",
        "    #post rules\n",
        "    res = ungroup_emoji(res)\n",
        "    \n",
        "    return res"
      ],
      "execution_count": 0,
      "outputs": []
    },
    {
      "cell_type": "code",
      "metadata": {
        "id": "kFKcOBNM3kLn",
        "colab_type": "code",
        "colab": {},
        "outputId": "11d67db7-50c5-46b8-fc86-0206a9ca3371"
      },
      "source": [
        "from sklearn.pipeline import Pipeline\n",
        "from sklearn.multiclass import OneVsRestClassifier\n",
        "from sklearn.feature_extraction.text import TfidfVectorizer\n",
        "from sklearn.svm import LinearSVC\n",
        "\n",
        "text_clf = Pipeline([\n",
        "    ('tfidf', TfidfVectorizer(tokenizer=process_text, ngram_range=(1,2))),\n",
        "    ('clf', OneVsRestClassifier(LinearSVC(), n_jobs=-1)),\n",
        "])\n",
        "\n",
        "text_clf.fit(X_train, y_train)"
      ],
      "execution_count": 0,
      "outputs": [
        {
          "output_type": "execute_result",
          "data": {
            "text/plain": [
              "Pipeline(memory=None,\n",
              "     steps=[('tfidf', TfidfVectorizer(analyzer='word', binary=False, decode_error='strict',\n",
              "        dtype=<class 'numpy.float64'>, encoding='utf-8', input='content',\n",
              "        lowercase=True, max_df=1.0, max_features=None, min_df=1,\n",
              "        ngram_range=(1, 2), norm='l2', preprocessor=None, smooth_idf=True,...ti_class='ovr', penalty='l2', random_state=None, tol=0.0001,\n",
              "     verbose=0),\n",
              "          n_jobs=-1))])"
            ]
          },
          "metadata": {
            "tags": []
          },
          "execution_count": 23
        }
      ]
    },
    {
      "cell_type": "code",
      "metadata": {
        "id": "hjOTZi3u3kLp",
        "colab_type": "code",
        "colab": {}
      },
      "source": [
        "from sklearn.preprocessing import OneHotEncoder\n",
        "enc = OneHotEncoder(handle_unknown='ignore')\n",
        "pred_lab = text_clf.predict(X_test)\n",
        "pred_ohe = enc.fit_transform(pred_lab).toarray()\n",
        "y_ohe = enc.fit_transform(test_df.iloc[:,1:]).toarray()"
      ],
      "execution_count": 0,
      "outputs": []
    },
    {
      "cell_type": "code",
      "metadata": {
        "id": "ZejTTyDn3kLr",
        "colab_type": "code",
        "colab": {},
        "outputId": "5286b029-f5d4-41cd-c7e2-c1d7fdda5f80"
      },
      "source": [
        "from sklearn.metrics import f1_score, precision_score, recall_score\n",
        "#macro metrics\n",
        "for i in range(12):\n",
        "    print(\n",
        "        (pred_ohe[:,i]==y_ohe[:,i]).mean(),\n",
        "        f1_score(pred_ohe[:,i],y_ohe[:,i]),\n",
        "        precision_score(pred_ohe[:,i],y_ohe[:,i]),\n",
        "        recall_score(pred_ohe[:,i],y_ohe[:,i])\n",
        "         )"
      ],
      "execution_count": 0,
      "outputs": [
        {
          "output_type": "stream",
          "text": [
            "0.5796631806353415 0.00023356300362022654 0.000116795141322121 1.0\n",
            "0.5796631806353415 0.7338907711914457 1.0 0.5796425414907198\n",
            "0.7765503019590514 0.8742227012685515 1.0 0.7765503019590514\n",
            "0.22344969804094858 0.36527811220804235 1.0 0.22344969804094858\n",
            "0.8306574360485098 0.9074963121898888 1.0 0.8306574360485098\n",
            "0.16934256395149017 0.28963721867652 1.0 0.16934256395149017\n",
            "0.8766632297343743 0.9342786876667887 1.0 0.8766632297343743\n",
            "0.12333677026562577 0.21959001704619957 1.0 0.12333677026562577\n",
            "0.8694947709530122 0.9301922470847779 1.0 0.8694947709530122\n",
            "0.13050522904698778 0.2308794788273616 1.0 0.13050522904698778\n",
            "0.8824569155987627 0.9375586854460094 1.0 0.8824569155987627\n",
            "0.1175430844012373 0.210359826018189 1.0 0.1175430844012373\n"
          ],
          "name": "stdout"
        }
      ]
    },
    {
      "cell_type": "markdown",
      "metadata": {
        "id": "kHbg66KA3kLt",
        "colab_type": "text"
      },
      "source": [
        "## [ULMFit](https://github.com/cstorm125/thai2fit) Model"
      ]
    },
    {
      "cell_type": "markdown",
      "metadata": {
        "id": "QOScQeJ35_fX",
        "colab_type": "text"
      },
      "source": [
        "| target        | prevalence | accuracy | f1       | precision | recall   |\n",
        "|---------------|------------|----------|----------|-----------|----------|\n",
        "| การเมือง       | 0.5796     | 0.891295 | 0.906282 | 0.906819  | 0.905745 |\n",
        "| สิทธิมนุษยชน     | 0.2235     | 0.900083 | 0.774465 | 0.767743  | 0.781306 |\n",
        "| คุณภาพชีวิต      | 0.1693     | 0.918692 | 0.733848 | 0.661931  | 0.823296 |\n",
        "| ต่างประเทศ     | 0.1233     | 0.969068 | 0.869132 | 0.832803  | 0.908775 |\n",
        "| สังคม          | 0.1305     | 0.899592 | 0.497172 | 0.380361  | 0.71753  |\n",
        "| สิ่งแวดล้อม      | 0.1175     | 0.972505 | 0.884441 | 0.895155  | 0.87398  |\n",
        "| เศรษฐกิจ       | 0.0759     | 0.95748  | 0.669466 | 0.56727   | 0.816574 |\n",
        "| วัฒนธรรม       | 0.0633     | 0.962096 | 0.629203 | 0.508146  | 0.825977 |\n",
        "| แรงงาน        | 0.0564     | 0.9891   | 0.898352 | 0.85453   | 0.946911 |\n",
        "| ความมั่นคง      | 0.0563     | 0.965434 | 0.655914 | 0.585004  | 0.746385 |\n",
        "| ไอซีที          | 0.0415     | 0.983503 | 0.787072 | 0.734911  | 0.847203 |\n",
        "| การศึกษา       | 0.0375     | 0.975991 | 0.633158 | 0.552356  | 0.741652 |\n",
        "| macro_average | 0.1396     | 0.948737 | 0.744875 | 0.687252  | 0.827945 |"
      ]
    },
    {
      "cell_type": "code",
      "metadata": {
        "id": "mcQLZtEI3kLt",
        "colab_type": "code",
        "colab": {}
      },
      "source": [
        "import pandas as pd\n",
        "import numpy as np\n",
        "from ast import literal_eval\n",
        "from tqdm import tqdm_notebook\n",
        "from collections import Counter\n",
        "import re\n",
        "\n",
        "#viz\n",
        "import matplotlib.pyplot as plt\n",
        "import seaborn as sns\n",
        "\n",
        "from fastai.text import *\n",
        "from fastai.callbacks import CSVLogger\n",
        "\n",
        "from pythainlp.ulmfit import *\n",
        "\n",
        "model_path = 'prachathai_data/'\n",
        "\n",
        "train_df = pd.read_csv('train_df.csv')\n",
        "valid_df = pd.read_csv('valid_df.csv')\n",
        "test_df = pd.read_csv('test_df.csv')\n",
        "all_df = pd.concat([train_df,valid_df,test_df],0).reset_index(drop=True)"
      ],
      "execution_count": 0,
      "outputs": []
    },
    {
      "cell_type": "markdown",
      "metadata": {
        "id": "0o-DCouZ3kLv",
        "colab_type": "text"
      },
      "source": [
        "### Finetune Language Model"
      ]
    },
    {
      "cell_type": "markdown",
      "metadata": {
        "id": "GghhErF43kLw",
        "colab_type": "text"
      },
      "source": [
        "See training script `train_lm.py`"
      ]
    },
    {
      "cell_type": "code",
      "metadata": {
        "id": "skLmVH-J3kLw",
        "colab_type": "code",
        "colab": {}
      },
      "source": [
        "# tt = Tokenizer(tok_func = ThaiTokenizer, lang = 'th', pre_rules = pre_rules_th, post_rules=post_rules_th)\n",
        "# processor = [TokenizeProcessor(tokenizer=tt, chunksize=10000, mark_fields=False),\n",
        "#             NumericalizeProcessor(vocab=None, max_vocab=60000, min_freq=3)]\n",
        "\n",
        "# data_lm = (TextList.from_df(all_df, model_path, cols=['body_text'], processor=processor)\n",
        "#     .random_split_by_pct(valid_pct = 0.01, seed = 1412)\n",
        "#     .label_for_lm()\n",
        "#     .databunch(bs=64))\n",
        "# data_lm.sanity_check()\n",
        "# data_lm.save('prachathai_lm.pkl')"
      ],
      "execution_count": 0,
      "outputs": []
    },
    {
      "cell_type": "code",
      "metadata": {
        "id": "69TO0cNE3kLy",
        "colab_type": "code",
        "colab": {},
        "outputId": "23368efc-91c7-4bbc-a024-bddf6b73ea4a"
      },
      "source": [
        "data_lm = load_data(model_path,'prachathai_lm.pkl')\n",
        "data_lm.show_batch(5)"
      ],
      "execution_count": 0,
      "outputs": [
        {
          "output_type": "display_data",
          "data": {
            "text/html": [
              "<table border=\"1\" class=\"dataframe\">\n",
              "  <thead>\n",
              "    <tr style=\"text-align: right;\">\n",
              "      <th>idx</th>\n",
              "      <th>text</th>\n",
              "    </tr>\n",
              "  </thead>\n",
              "  <tbody>\n",
              "    <tr>\n",
              "      <td>0</td>\n",
              "      <td>นักวิจัย จาก กรมวิชาการเกษตร   มหาวิทยาลัยเกษตรศาสตร์   และ มหาวิทยาลัยมหิดล เข้าร่วม   โดย มี การ นำเสนอ ผลการศึกษา ทดลอง ที่ผ่านมา   ซึ่ง พบ ว่า มะละกอ   \\n   จีเอ็มโอ ผ่านการทดสอบ ความปลอดภัย ทาง ชีวภาพ สิ่งแวดล้อม และ อาหาร ระดับ หนึ่ง เท่านั้น   \\n   \" การค้นคว้าวิจัย มะละกอ จีเอ็มโอ รวมถึง พืช ชนิด อื่นๆ   ต้อง ทำ ทั้ง ใน โรงเรือน ปิด   แปลง ทดลอง   รวมทั้ง</td>\n",
              "    </tr>\n",
              "    <tr>\n",
              "      <td>1</td>\n",
              "      <td>การปฏิบัติ ราช การตาม อำนาจหน้าที่ ปกติ   และ ตอบ สนองความต้องการ ของ ประชาชน   โดย ยึด ประชาชน เป็น ศูนย์กลาง   \\n   รัฐบาล จะ เสริมสร้าง ประสิทธิภาพ ของ ระบบ การ บริหารงาน แบ xxrep 3 ูรณา การ อย่างต่อเนื่อง ไม่ว่า ใน ระดับ จังหวัด หรือ ระดับ อื่นๆ   รัฐบาล จะ เน้น ระบบ การบริหารงานบุคคล ภาครัฐ ให้ มี คุณธรรม และ มีประสิทธิภาพ   ปรับปรุง ระบบ การบริหาร ทรัพยากรบุคคล   จัดระบบ ค่าตอบแทน ให้ เป็นธรรม</td>\n",
              "    </tr>\n",
              "    <tr>\n",
              "      <td>2</td>\n",
              "      <td>ปากคำ ของ ชาวบ้าน   ทำให้ เรา ทราบ ว่า หมู่บ้าน นี้ ไม่เคย เกิด เหตุร้าย ขึ้น เลย   ไม่ว่า สถานการณ์ ใน   3   จังหวัด ชายแดน ภาคใต้ จะ รุนแรง ขนาด ไหน   ซึ่ง สาเหตุ หนึ่ง อาจจะ เป็น เพราะ มี หน่วย ทหาร นาวิกโยธิน ปักหลัก อยู่ ใน พื้นที่ นาน นับ สิบ ปี   \\n   \\n       \\n   \\n</td>\n",
              "    </tr>\n",
              "    <tr>\n",
              "      <td>3</td>\n",
              "      <td>ก่อนหน้านี้   ความเสี่ยง จึง ไม่ ต่างกัน   \\n   \\n       \\n   \\n   ทาง ที่   3   ปฏิวัติ รัฐประหาร   เรื่อง นี้ ไม่มี ผู้เชี่ยวชาญ ท่าน ใด กล้า ยืนยัน ว่า จะ ไม่มี   แม้ นายทหาร ใหญ่ หลาย คน จะ ออกมา พูด ให้ สบายใจ   และ ที่ผ่านมา ก็ แสดงให้เห็น ว่า   สงบราบคาบ คามือ ท่าน</td>\n",
              "    </tr>\n",
              "    <tr>\n",
              "      <td>4</td>\n",
              "      <td>เรา ถูก เอารัดเอาเปรียบ จาก ผู้รักษา กฎหมาย มา มาก พอแล้ว \"   \\n   \\n       \\n   \\n   ใน เรื่อง การ ให้ ความช่วยเหลือ ครอบครัว ผู้ ได้รับ ผลกระทบ นั้น   นาง อัง ค นา กล่าวว่า   \" นาย จาตุรนต์   ฉายแสง   รักษาการ รัฐมนตรี ว่าการ กระทรวงศึกษาธิการ   และ ประธาน ศูนย์ ให้ ความช่วยเหลือ กรณี คน หาย</td>\n",
              "    </tr>\n",
              "  </tbody>\n",
              "</table>"
            ],
            "text/plain": [
              "<IPython.core.display.HTML object>"
            ]
          },
          "metadata": {
            "tags": []
          }
        }
      ]
    },
    {
      "cell_type": "code",
      "metadata": {
        "id": "-2sVjbEx3kL2",
        "colab_type": "code",
        "colab": {}
      },
      "source": [
        "config = dict(emb_sz=400, n_hid=1550, n_layers=4, pad_token=1, qrnn=False, tie_weights=True, out_bias=True,\n",
        "             output_p=0.25, hidden_p=0.1, input_p=0.2, embed_p=0.02, weight_p=0.15)\n",
        "trn_args = dict(drop_mult=0.9, clip=0.12, alpha=2, beta=1)\n",
        "\n",
        "learn = language_model_learner(data_lm, AWD_LSTM, config=config, pretrained=False, **trn_args)\n",
        "\n",
        "#load pretrained models\n",
        "learn.load_pretrained(**_THWIKI_LSTM)"
      ],
      "execution_count": 0,
      "outputs": []
    },
    {
      "cell_type": "code",
      "metadata": {
        "id": "G5h_mhYg3kL4",
        "colab_type": "code",
        "colab": {},
        "outputId": "2e0309b9-4863-4040-c765-7bd1579b1cb0"
      },
      "source": [
        "learn.lr_find()\n",
        "learn.recorder.plot()"
      ],
      "execution_count": 0,
      "outputs": [
        {
          "output_type": "display_data",
          "data": {
            "text/html": [
              ""
            ],
            "text/plain": [
              "<IPython.core.display.HTML object>"
            ]
          },
          "metadata": {
            "tags": []
          }
        },
        {
          "output_type": "stream",
          "text": [
            "LR Finder is complete, type {learner_name}.recorder.plot() to see the graph.\n",
            "Min numerical gradient: 5.75E-06\n"
          ],
          "name": "stdout"
        },
        {
          "output_type": "display_data",
          "data": {
            "image/png": "[encoded data removed]",
            "text/plain": [
              "<Figure size 432x288 with 1 Axes>"
            ]
          },
          "metadata": {
            "tags": [],
            "needs_background": "light"
          }
        }
      ]
    },
    {
      "cell_type": "markdown",
      "metadata": {
        "id": "tCJwzUF_3kL6",
        "colab_type": "text"
      },
      "source": [
        "### Classification"
      ]
    },
    {
      "cell_type": "markdown",
      "metadata": {
        "id": "VWYw6qU53kL6",
        "colab_type": "text"
      },
      "source": [
        "See training script `train_cls.py`. We could only unfreeze last 3 layers of the model due to insufficient memory.\n",
        "\n",
        "```\n",
        "epoch     train_loss  valid_loss\n",
        "1         0.174497    0.152151\n",
        "Total time: 51:31\n",
        "epoch     train_loss  valid_loss\n",
        "1         0.154524    0.143677\n",
        "Total time: 53:16\n",
        "epoch     train_loss  valid_loss\n",
        "1         0.151477    0.141693\n",
        "Better model found at epoch 1 with val_loss value: 0.1416931301355362.\n",
        "2         0.151880    0.141980\n",
        "3         0.145966    0.137880\n",
        "Better model found at epoch 3 with val_loss value: 0.13787975907325745.\n",
        "4         0.132292    0.137459\n",
        "Better model found at epoch 4 with val_loss value: 0.13745874166488647.\n",
        "5         0.130727    0.136658\n",
        "Better model found at epoch 5 with val_loss value: 0.13665838539600372.\n",
        "6         0.122423    0.136354\n",
        "Better model found at epoch 6 with val_loss value: 0.13635379076004028.\n",
        "7         0.109675    0.142987\n",
        "8         0.094170    0.148554\n",
        "9         0.087170    0.153496\n",
        "10        0.082014    0.154279\n",
        "Total time: 9:39:47\n",
        "```"
      ]
    },
    {
      "cell_type": "markdown",
      "metadata": {
        "id": "vphTVJ-z3kL7",
        "colab_type": "text"
      },
      "source": [
        "### Evaluation"
      ]
    },
    {
      "cell_type": "code",
      "metadata": {
        "id": "xrLQYKMs3kL7",
        "colab_type": "code",
        "colab": {}
      },
      "source": [
        "#data\n",
        "data_cls = load_data(model_path,'prachathai_cls.pkl')\n",
        "data_cls.sanity_check()\n",
        "\n",
        "#model\n",
        "config = dict(emb_sz=400, n_hid=1550, n_layers=4, pad_token=1, qrnn=False,\n",
        "             output_p=0.4, hidden_p=0.2, input_p=0.6, embed_p=0.1, weight_p=0.5)\n",
        "trn_args = dict(bptt=70, drop_mult=0.5, alpha=2, beta=1, max_len=500)\n",
        "\n",
        "learn = text_classifier_learner(data_cls, AWD_LSTM, config=config, pretrained=False, **trn_args)\n",
        "learn.load('prachathai_cls');"
      ],
      "execution_count": 0,
      "outputs": []
    },
    {
      "cell_type": "code",
      "metadata": {
        "id": "IXpNssD33kL9",
        "colab_type": "code",
        "colab": {},
        "outputId": "bca733ab-95ae-4a59-88af-609586a879c8"
      },
      "source": [
        "# probs, y_true = learn.get_preds(ds_type = DatasetType.Test, ordered=True)\n",
        "# probs = probs.numpy()\n",
        "# pickle.dump(probs, open(f'{model_path}probs.pkl','wb'))\n",
        "probs = pickle.load(open(f'{model_path}probs.pkl','rb'))\n",
        "preds = (probs > 0.5).astype(int)\n",
        "y_true = np.array(test_df.iloc[:,1:])\n",
        "probs.shape, y_true.shape"
      ],
      "execution_count": 0,
      "outputs": [
        {
          "output_type": "execute_result",
          "data": {
            "text/plain": [
              "((20367, 12), (20367, 12))"
            ]
          },
          "metadata": {
            "tags": []
          },
          "execution_count": 6
        }
      ]
    },
    {
      "cell_type": "code",
      "metadata": {
        "id": "SX5pAa4U3kMA",
        "colab_type": "code",
        "colab": {},
        "outputId": "c2ffdbb8-e849-4efd-b146-ee2d65bf6623"
      },
      "source": [
        "from sklearn.metrics import f1_score, precision_score, recall_score\n",
        "#macro metrics\n",
        "for i in range(12):\n",
        "    print(\n",
        "        (preds[:,i]==y_true[:,i]).mean(),\n",
        "        f1_score(preds[:,i],y_true[:,i]),\n",
        "        precision_score(preds[:,i],y_true[:,i]),\n",
        "        recall_score(preds[:,i],y_true[:,i])\n",
        "         )"
      ],
      "execution_count": 0,
      "outputs": [
        {
          "output_type": "stream",
          "text": [
            "0.8912947414935926 0.9062817473755503 0.9068191444303262 0.9057449868855233\n",
            "0.9000834683556734 0.7744652554582732 0.7677433531092067 0.7813059033989267\n",
            "0.9186920017675652 0.733847637415622 0.6619309944911569 0.8232960692390913\n",
            "0.9690676093680954 0.8691316992106356 0.8328025477707006 0.9087749782797567\n",
            "0.8995924780281829 0.49717236292107203 0.3803611738148984 0.7175301632363378\n",
            "0.9725045416605292 0.8844407758976476 0.8951545530492899 0.8739804241435563\n",
            "0.9574802376393186 0.6694656488549618 0.5672703751617076 0.8165735567970205\n",
            "0.9620955467177297 0.6292026897214217 0.5081458494957332 0.8259773013871374\n",
            "0.9891000147297099 0.8983516483516484 0.8545296167247387 0.946911196911197\n",
            "0.9654342809446654 0.6559139784946237 0.5850043591979076 0.746384872080089\n",
            "0.9835027249963175 0.7870722433460077 0.7349112426035503 0.8472032742155525\n",
            "0.9759905729857122 0.6331582895723931 0.5523560209424084 0.7416520210896309\n"
          ],
          "name": "stdout"
        }
      ]
    },
    {
      "cell_type": "markdown",
      "metadata": {
        "id": "HK9ZXwSD5YV1",
        "colab_type": "text"
      },
      "source": [
        "## [Multilingual Universal Sentence Encoder](https://tfhub.dev/google/universal-sentence-encoder-multilingual/3)"
      ]
    },
    {
      "cell_type": "markdown",
      "metadata": {
        "id": "4mntZ7pw5r-Z",
        "colab_type": "text"
      },
      "source": [
        "| target        | prevalence | accuracy   |  f1_score  |  precision |  recall    |\n",
        "|---------------|------------|------------|------------|------------|------------|\n",
        "|       การเมือง | 0.5796     | 0.73957873 | 0.68247126 | 0.66690067 | 0.69878632 |\n",
        "| สิทธิมนุษยชน     | 0.2235     | 0.73957873 | 0.77927591 | 0.79213198 | 0.76683047 |\n",
        "| คุณภาพชีวิต      | 0.1693     | 0.8326705  | 0.89775898 | 0.95063376 | 0.85045613 |\n",
        "| ต่างประเทศ     | 0.1233     | 0.8326705  | 0.53952169 | 0.43144246 | 0.71984857 |\n",
        "| สังคม          | 0.1305     | 0.86404478 | 0.92209656 | 0.96664307 | 0.88147491 |\n",
        "| สิ่งแวดล้อม      | 0.1175     | 0.86404478 | 0.46647399 | 0.35456942 | 0.68158784 |\n",
        "| เศรษฐกิจ       | 0.0759     | 0.92259537 | 0.95654691 | 0.97332772 | 0.9403349  |\n",
        "| วัฒนธรรม       | 0.0633     | 0.92259537 | 0.64600876 | 0.56645009 | 0.7515674  |\n",
        "| แรงงาน        | 0.0564     | 0.87442922 | 0.93239761 | 0.99635624 | 0.87615499 |\n",
        "| ความมั่นคง      | 0.0563     | 0.87442922 | 0.11886305 | 0.06471581 | 0.7278481  |\n",
        "| ไอซีที          | 0.0415     | 0.90322581 | 0.946793   | 0.97767185 | 0.91780499 |\n",
        "| การศึกษา       | 0.0375     | 0.90322581 | 0.46585366 | 0.3537037  | 0.68214286 |\n",
        "| macro_average | 0.1396     | 0.85609074 | 0.69617178 | 0.67454556 | 0.79123646 |"
      ]
    },
    {
      "cell_type": "code",
      "metadata": {
        "id": "Prt-HzzR5rA6",
        "colab_type": "code",
        "colab": {}
      },
      "source": [
        "import tensorflow_hub as hub\n",
        "import tensorflow_text\n",
        "import tensorflow as tf #tensorflow 2.1.0\n",
        "import tqdm\n",
        "\n",
        "enc = hub.load('https://tfhub.dev/google/universal-sentence-encoder-multilingual/3')"
      ],
      "execution_count": 0,
      "outputs": []
    },
    {
      "cell_type": "code",
      "metadata": {
        "id": "5gyJn8E85wHr",
        "colab_type": "code",
        "colab": {
          "base_uri": "https://localhost:8080/",
          "height": 34
        },
        "outputId": "6efb41f8-3bf7-4a96-8cb5-6e4c0f55bf4c"
      },
      "source": [
        "y_train = train_df.iloc[:,1:]\n",
        "y_test = test_df.iloc[:,1:]\n",
        "y_train.shape, y_test.shape"
      ],
      "execution_count": 11,
      "outputs": [
        {
          "output_type": "execute_result",
          "data": {
            "text/plain": [
              "((47522, 12), (13578, 12))"
            ]
          },
          "metadata": {
            "tags": []
          },
          "execution_count": 11
        }
      ]
    },
    {
      "cell_type": "code",
      "metadata": {
        "id": "TWZFqLYu8LJq",
        "colab_type": "code",
        "colab": {}
      },
      "source": [
        "X_trains = []\n",
        "X_tests = []\n",
        "bs = 10"
      ],
      "execution_count": 0,
      "outputs": []
    },
    {
      "cell_type": "code",
      "metadata": {
        "id": "kA0A8Fis6TvW",
        "colab_type": "code",
        "colab": {
          "base_uri": "https://localhost:8080/",
          "height": 117,
          "referenced_widgets": [
            "cf077773c3344b7097a14da59ce5e48e",
            "300e8bc76d2d43398140d30408a42229",
            "a5cc5cf6efae424b8e3241421da29bef",
            "c355651bfaa6468ebfecb40533da5db1",
            "eff27be540614d389066392c0202ad7b",
            "9ef06c870c3042bf91867e75ee7e6233",
            "14979e8271c64f0984d196f21543efb1",
            "f0fb2d3896cd43ceb70b3591a988be6e"
          ]
        },
        "outputId": "1d25f295-80d7-4464-e797-0faff153dff1"
      },
      "source": [
        "for i in tqdm.tqdm_notebook(range(y_test.shape[0]//bs+1)):\n",
        "    X_tests.append(enc(test_df.body_text[(i*bs):((i+1)*bs)]).numpy())"
      ],
      "execution_count": 13,
      "outputs": [
        {
          "output_type": "stream",
          "text": [
            "/usr/local/lib/python3.6/dist-packages/ipykernel_launcher.py:1: TqdmDeprecationWarning: This function will be removed in tqdm==5.0.0\n",
            "Please use `tqdm.notebook.tqdm` instead of `tqdm.tqdm_notebook`\n",
            "  \"\"\"Entry point for launching an IPython kernel.\n"
          ],
          "name": "stderr"
        },
        {
          "output_type": "display_data",
          "data": {
            "application/vnd.jupyter.widget-view+json": {
              "model_id": "cf077773c3344b7097a14da59ce5e48e",
              "version_minor": 0,
              "version_major": 2
            },
            "text/plain": [
              "HBox(children=(FloatProgress(value=0.0, max=1358.0), HTML(value='')))"
            ]
          },
          "metadata": {
            "tags": []
          }
        },
        {
          "output_type": "stream",
          "text": [
            "\n"
          ],
          "name": "stdout"
        }
      ]
    },
    {
      "cell_type": "code",
      "metadata": {
        "id": "aavybgSa8d8N",
        "colab_type": "code",
        "colab": {
          "base_uri": "https://localhost:8080/",
          "height": 117,
          "referenced_widgets": [
            "9836b2c0897247b0887680f1492a70a2",
            "2b1b27a2c6d94b1c851c253b4546b588",
            "f65e1e2bc3ee4316bea009866f41aac5",
            "a33e67aa4e83473a93813ff9fdda3ccc",
            "37688a9bff4543cb9fb0b5018ed1d1f5",
            "ab233118e37b4397a85cac479cf0b13f",
            "39fdbf2286ba43d6afd56e5312f11bff",
            "d628d456ba5f4561b51993fa1c0e2c75"
          ]
        },
        "outputId": "9837cd66-8ffb-4fd1-ee9c-d4906d81ca7f"
      },
      "source": [
        "for i in tqdm.tqdm_notebook(range(y_train.shape[0]//bs+1)):\n",
        "    X_trains.append(enc(train_df.body_text[(i*bs):((i+1)*bs)]).numpy())"
      ],
      "execution_count": 14,
      "outputs": [
        {
          "output_type": "stream",
          "text": [
            "/usr/local/lib/python3.6/dist-packages/ipykernel_launcher.py:1: TqdmDeprecationWarning: This function will be removed in tqdm==5.0.0\n",
            "Please use `tqdm.notebook.tqdm` instead of `tqdm.tqdm_notebook`\n",
            "  \"\"\"Entry point for launching an IPython kernel.\n"
          ],
          "name": "stderr"
        },
        {
          "output_type": "display_data",
          "data": {
            "application/vnd.jupyter.widget-view+json": {
              "model_id": "9836b2c0897247b0887680f1492a70a2",
              "version_minor": 0,
              "version_major": 2
            },
            "text/plain": [
              "HBox(children=(FloatProgress(value=0.0, max=4753.0), HTML(value='')))"
            ]
          },
          "metadata": {
            "tags": []
          }
        },
        {
          "output_type": "stream",
          "text": [
            "\n"
          ],
          "name": "stdout"
        }
      ]
    },
    {
      "cell_type": "code",
      "metadata": {
        "id": "2sRVa4de9bNA",
        "colab_type": "code",
        "colab": {}
      },
      "source": [
        "X_test = np.concatenate(X_tests,0)\n",
        "X_test.shape\n",
        "pickle.dump(X_test,open('X_test.pkl','wb'))"
      ],
      "execution_count": 0,
      "outputs": []
    },
    {
      "cell_type": "code",
      "metadata": {
        "id": "7ecGFJmn9bQJ",
        "colab_type": "code",
        "colab": {}
      },
      "source": [
        "X_train = np.concatenate(X_trains,0)\n",
        "X_train.shape\n",
        "pickle.dump(X_train,open('X_train.pkl','wb'))"
      ],
      "execution_count": 0,
      "outputs": []
    },
    {
      "cell_type": "code",
      "metadata": {
        "id": "5rFdmkhW9u8V",
        "colab_type": "code",
        "colab": {
          "base_uri": "https://localhost:8080/",
          "height": 34
        },
        "outputId": "453c9761-9e64-45ae-b578-93843f1a40dc"
      },
      "source": [
        "X_test.shape,X_train.shape"
      ],
      "execution_count": 17,
      "outputs": [
        {
          "output_type": "execute_result",
          "data": {
            "text/plain": [
              "((13578, 512), (47522, 512))"
            ]
          },
          "metadata": {
            "tags": []
          },
          "execution_count": 17
        }
      ]
    },
    {
      "cell_type": "code",
      "metadata": {
        "id": "-3-AG-qCCFce",
        "colab_type": "code",
        "colab": {
          "base_uri": "https://localhost:8080/",
          "height": 289
        },
        "outputId": "2a47c2ff-10bd-4427-b157-057cc6f3d0d6"
      },
      "source": [
        "from sklearn.pipeline import Pipeline\n",
        "from sklearn.multiclass import OneVsRestClassifier\n",
        "from sklearn.svm import LinearSVC\n",
        "\n",
        "text_clf = Pipeline([\n",
        "    ('clf', OneVsRestClassifier(LinearSVC(), n_jobs=-1)),\n",
        "])\n",
        "\n",
        "text_clf.fit(X_train, y_train)"
      ],
      "execution_count": 19,
      "outputs": [
        {
          "output_type": "execute_result",
          "data": {
            "text/plain": [
              "Pipeline(memory=None,\n",
              "         steps=[('clf',\n",
              "                 OneVsRestClassifier(estimator=LinearSVC(C=1.0,\n",
              "                                                         class_weight=None,\n",
              "                                                         dual=True,\n",
              "                                                         fit_intercept=True,\n",
              "                                                         intercept_scaling=1,\n",
              "                                                         loss='squared_hinge',\n",
              "                                                         max_iter=1000,\n",
              "                                                         multi_class='ovr',\n",
              "                                                         penalty='l2',\n",
              "                                                         random_state=None,\n",
              "                                                         tol=0.0001,\n",
              "                                                         verbose=0),\n",
              "                                     n_jobs=-1))],\n",
              "         verbose=False)"
            ]
          },
          "metadata": {
            "tags": []
          },
          "execution_count": 19
        }
      ]
    },
    {
      "cell_type": "code",
      "metadata": {
        "id": "ZRDLtYAgCL_m",
        "colab_type": "code",
        "colab": {}
      },
      "source": [
        "from sklearn.preprocessing import OneHotEncoder\n",
        "enc = OneHotEncoder(handle_unknown='ignore')\n",
        "pred_lab = text_clf.predict(X_test)\n",
        "pred_ohe = enc.fit_transform(pred_lab).toarray()\n",
        "y_ohe = enc.fit_transform(test_df.iloc[:,1:]).toarray()"
      ],
      "execution_count": 0,
      "outputs": []
    },
    {
      "cell_type": "code",
      "metadata": {
        "id": "YNOdfgbEClW1",
        "colab_type": "code",
        "colab": {
          "base_uri": "https://localhost:8080/",
          "height": 221
        },
        "outputId": "63abdf31-ba51-45f9-e995-f330692440b5"
      },
      "source": [
        "from sklearn.metrics import f1_score, precision_score, recall_score\n",
        "#macro metrics\n",
        "for i in range(12):\n",
        "    print(\n",
        "        (pred_ohe[:,i]==y_ohe[:,i]).mean(),\n",
        "        f1_score(pred_ohe[:,i],y_ohe[:,i]),\n",
        "        precision_score(pred_ohe[:,i],y_ohe[:,i]),\n",
        "        recall_score(pred_ohe[:,i],y_ohe[:,i])\n",
        "         )"
      ],
      "execution_count": 21,
      "outputs": [
        {
          "output_type": "stream",
          "text": [
            "0.7395787302990131 0.6824712643678161 0.6669006669006668 0.6987863184994483\n",
            "0.7395787302990131 0.7792759051186018 0.7921319796954315 0.7668304668304669\n",
            "0.832670496391221 0.8977589775897759 0.9506337558372249 0.8504561343678063\n",
            "0.832670496391221 0.5395216862586137 0.4314424635332253 0.719848566792861\n",
            "0.8640447783178672 0.9220965563808238 0.9666430720226509 0.8814749072131677\n",
            "0.8640447783178672 0.4664739884393064 0.3545694200351494 0.6815878378378378\n",
            "0.9225953748711151 0.9565469053623847 0.9733277240218763 0.9403349048935132\n",
            "0.9225953748711151 0.646008757157292 0.5664500886001181 0.7515673981191222\n",
            "0.8744292237442922 0.9323976051702947 0.9963562409965258 0.8761549925484352\n",
            "0.8744292237442922 0.11886304909560723 0.06471581316826111 0.7278481012658228\n",
            "0.9032258064516129 0.9467930029154519 0.9776718514801807 0.9178049929345267\n",
            "0.9032258064516129 0.4658536585365854 0.3537037037037037 0.6821428571428572\n"
          ],
          "name": "stdout"
        }
      ]
    },
    {
      "cell_type": "code",
      "metadata": {
        "id": "ROOPyUlPCmyl",
        "colab_type": "code",
        "colab": {}
      },
      "source": [
        ""
      ],
      "execution_count": 0,
      "outputs": []
    }
  ]
}